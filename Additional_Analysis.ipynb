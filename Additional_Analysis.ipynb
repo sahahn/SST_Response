{
 "cells": [
  {
   "cell_type": "markdown",
   "metadata": {},
   "source": [
    "### This notebook delves into the continued issue of trying to determine which subset of subjects was employed, if a behavioral flag was employed, and further, some new analyses are conducted."
   ]
  },
  {
   "cell_type": "code",
   "execution_count": 1,
   "metadata": {},
   "outputs": [],
   "source": [
    "import pandas as pd \n",
    "import numpy as np\n",
    "import matplotlib.pyplot as plt\n",
    "import matplotlib.ticker as mtick\n",
    "import math, random, warnings\n",
    "import seaborn as sns\n",
    "from scipy import stats\n",
    "from scipy.stats import ttest_ind, pearsonr\n",
    "\n",
    "warnings.filterwarnings(\"ignore\")"
   ]
  },
  {
   "cell_type": "markdown",
   "metadata": {},
   "source": [
    "### Essentially below the cleaning operations from 'clean_SST' are condensed into minimally altered functions to allow their ease of use in being run on 6 different data sources.\n",
    "\n",
    "As a sanity check, one can compare the results from the Clean SST notebook with the results obtained from the below analysis on df 1 (as they use the same subject source)."
   ]
  },
  {
   "cell_type": "code",
   "execution_count": 2,
   "metadata": {},
   "outputs": [],
   "source": [
    "def check_line_up(df):\n",
    "    return len(df.src_subject_id.unique()) == 1\n",
    "\n",
    "def check_subj_lineup(df):\n",
    "    '''This function is new as I noticed that there were a few subjects where the NARGUID and\n",
    "    src_subject_id didnt lineup, this just drops those, so that they are interchangable, and correct subject\n",
    "    counts can be assured'''\n",
    "    \n",
    "    group = df.groupby('NARGUID')\n",
    "    check_lineup = ~group.apply(check_line_up)\n",
    "    weird = check_lineup[check_lineup].index\n",
    "\n",
    "    to_drop = df[df['NARGUID'].isin(weird)].index\n",
    "    df = df.drop(to_drop, axis=0)\n",
    "\n",
    "    group = df.groupby('NARGUID')\n",
    "    if np.sum(group.apply(len) != 360) != 0:\n",
    "        print('Warning missing')\n",
    "\n",
    "    group = df.groupby('src_subject_id')\n",
    "    if np.sum(group.apply(len) != 360) != 0:\n",
    "        print('Warning missing')\n",
    "        \n",
    "    return df\n",
    "\n",
    "def set_trial_type(SST_concat):\n",
    "\n",
    "    SST_concat['Procedure[SubTrial]'].loc[SST_concat['Procedure[SubTrial]'].isnull()] =\\\n",
    "        SST_concat['Procedure[Trial]'] \n",
    "\n",
    "    SST_concat['trial_type'] =\\\n",
    "        SST_concat['Procedure[SubTrial]'].replace('VariableStopTrial.*', 'StopTrial', regex=True)\n",
    "    \n",
    "    return SST_concat\n",
    "\n",
    "def fix_resps(SST_concat):\n",
    "    go_trial_mask = SST_concat.loc[SST_concat['Procedure[SubTrial]'] == 'GoTrial']\n",
    "    go_trial_idx = go_trial_mask[go_trial_mask==True].index\n",
    "    \n",
    "    #the response recordings are inconsistent in type (str, int, float) this fixes that \n",
    "    cresp_replace = {'2.0': 2.0,\n",
    "                     '1.0': 1.0,\n",
    "                     '3.0': 3.0,\n",
    "                     '4.0': 4.0,\n",
    "                     '1,{LEFTARROW}': 1.0,\n",
    "                     '2,{RIGHTARROW}': 2.0}\n",
    "\n",
    "    resp_replace = {'2.0': 2.0,\n",
    "                    '1.0': 1.0,\n",
    "                    '3.0': 3.0,\n",
    "                    '4.0': 4.0,\n",
    "                    '{LEFTARROW}': 1.0,\n",
    "                    '{RIGHTARROW}': 2.0}\n",
    "\n",
    "    SST_concat['Go.RESP'].replace(to_replace=resp_replace, inplace=True)\n",
    "    SST_concat['Go.RESP'] = SST_concat['Go.RESP'].astype('float')\n",
    "    \n",
    "    SST_concat['Go.CRESP'].replace(to_replace=cresp_replace, inplace=True)\n",
    "    SST_concat['Go.CRESP'] = SST_concat['Go.CRESP'].astype('float')\n",
    "    \n",
    "    # In the original code these replacements were missing, but it\n",
    "    # did not seem to effect anything\n",
    "    SST_concat['Fix.RESP'].replace(to_replace=resp_replace, inplace=True)\n",
    "    SST_concat['Fix.RESP'] = SST_concat['Fix.RESP'].astype(float)\n",
    "\n",
    "    SST_concat['StopSignal.RESP'].replace(to_replace=resp_replace, inplace=True)\n",
    "    SST_concat['StopSignal.RESP'] = SST_concat['StopSignal.RESP'].astype(float)\n",
    "\n",
    "    SST_concat['SSD.RESP'].replace(to_replace=resp_replace, inplace=True)\n",
    "    SST_concat['SSD.RESP'] = SST_concat['SSD.RESP'].astype(float)\n",
    "    \n",
    "    return SST_concat\n",
    "\n",
    "def switch(x):\n",
    "    \n",
    "    if x == 1:\n",
    "        return 2\n",
    "    elif x == 2:\n",
    "        return 1\n",
    "    elif x == 3:\n",
    "        return 4\n",
    "    elif x == 4:\n",
    "        return 3\n",
    "    else:\n",
    "        return np.nan\n",
    "\n",
    "def switch_df(df):\n",
    "    ''' This function is new, it optional applies the choice response switch according\n",
    "    to the flags provided in the NDA 2.0 SST summary csv.'''\n",
    "    \n",
    "    summary_2_df = pd.read_csv('/home/sage/work/ABCD2p0NDA/abcd_sst02.txt', sep='\\t', skiprows=[1])\n",
    "    switch_subjs = np.array(summary_2_df[summary_2_df['tfmri_sst_beh_switchflag'] == 1].src_subject_id)\n",
    "\n",
    "    for subj in df.src_subject_id.unique():\n",
    "        if subj in switch_subjs:\n",
    "            subj_inds = df[df.src_subject_id == subj].index\n",
    "\n",
    "            for col in ['Go.RESP', 'Fix.RESP', 'StopSignal.RESP', 'SSD.RESP']:\n",
    "                df.loc[subj_inds, col] = df.loc[subj_inds, col].apply(switch)\n",
    "\n",
    "    return df\n",
    "\n",
    "def set_correct_go(df):\n",
    "\n",
    "    df['correct_go_response'] = np.NaN\n",
    "\n",
    "    df['correct_go_response'].loc[(~df['Go.RESP'].isnull()) & \n",
    "                                  (df['Go.CRESP'] == df['Go.RESP'])] = float(1)\n",
    "\n",
    "    df['correct_go_response'].loc[(df['Go.RESP'].isnull()) & \n",
    "                                  (df['Go.CRESP'] == df['Fix.RESP'])] = float(1)\n",
    "\n",
    "\n",
    "    df['correct_go_response'].loc[(~df['Go.RESP'].isnull()) & \n",
    "                                  (df['Go.CRESP'] != df['Go.RESP']) &\n",
    "                                  (df['trial_type'] == 'GoTrial')] = float(0)\n",
    "\n",
    "\n",
    "    df['correct_go_response'].loc[(df['Go.RESP'].isnull()) & \n",
    "                                  (df['Go.CRESP'] != df['Fix.RESP']) &\n",
    "                                  (df['trial_type'] == 'GoTrial')] = float(0)\n",
    "\n",
    "\n",
    "    df['correct_go_response'].loc[(df['Go.RESP'].isnull()) & (df['Fix.RESP'].isnull()) & \n",
    "                                  (df['trial_type'] == 'GoTrial')] = 'omission'\n",
    "    \n",
    "    return df\n",
    "\n",
    "def set_correct_stop(SST_concat):\n",
    "    \n",
    "    SST_concat['correct_stop'] = np.NaN\n",
    "    \n",
    "    crt_stop_msk = ((SST_concat['StopSignal.RESP'].isnull()) &\n",
    "                    (SST_concat['Fix.RESP'].isnull()) &\n",
    "                    (SST_concat['SSD.RESP'].isnull()) &\n",
    "                    (SST_concat['trial_type'] == 'StopTrial'))\n",
    "                    \n",
    "                    \n",
    "    SST_concat.loc[crt_stop_msk, 'correct_stop'] = float(1)\n",
    "    \n",
    "    inc_stop_msk = ((~(SST_concat['StopSignal.RESP'].isnull()) |\n",
    "                     ~(SST_concat['Fix.RESP'].isnull())  |\n",
    "                     ~(SST_concat['SSD.RESP'].isnull())) &\n",
    "                      (SST_concat['trial_type'] == 'StopTrial'))\n",
    "    SST_concat.loc[inc_stop_msk, 'correct_stop'] = float(0)\n",
    "    \n",
    "    return SST_concat\n",
    "\n",
    "def set_correct_stim(SST_concat):\n",
    "\n",
    "    SST_concat['correct_stimulus_mapping_1'] = np.NaN\n",
    "    SST_concat['correct_stimulus_mapping_2'] = np.NaN\n",
    "    \n",
    "    SST_concat.loc[SST_concat['Stimulus'] == 'images/Right_Arrow.bmp', 'correct_stimulus_mapping_1'] = SST_concat.loc[SST_concat['Stimulus'] == 'images/Right_Arrow.bmp']['Go.CRESP'].dropna().unique()[0]\n",
    "    SST_concat.loc[SST_concat['Stimulus'] == 'images/Right_Arrow.bmp', 'correct_stimulus_mapping_2'] = SST_concat.loc[SST_concat['Stimulus'] == 'images/Right_Arrow.bmp']['Go.CRESP'].dropna().unique()[1]\n",
    "\n",
    "    SST_concat.loc[SST_concat['Stimulus'] == 'images/Left_Arrow.bmp', 'correct_stimulus_mapping_1'] = SST_concat.loc[SST_concat['Stimulus'] == 'images/Left_Arrow.bmp']['Go.CRESP'].dropna().unique()[0]\n",
    "    SST_concat.loc[SST_concat['Stimulus'] == 'images/Left_Arrow.bmp', 'correct_stimulus_mapping_2'] = SST_concat.loc[SST_concat['Stimulus'] == 'images/Left_Arrow.bmp']['Go.CRESP'].dropna().unique()[1]\n",
    "    \n",
    "    SST_concat['correct_stop_mapping'] = np.NaN \n",
    "    SST_concat['correct_stop_mapping'].loc[(SST_concat['correct_stop'] == 0) & (~SST_concat['SSD.RESP'].isnull()) &\\\n",
    "                                           ((SST_concat['SSD.RESP'] == SST_concat['correct_stimulus_mapping_1']) | (SST_concat['SSD.RESP'] == SST_concat['correct_stimulus_mapping_2']))] = float(1)\n",
    "\n",
    "    SST_concat['correct_stop_mapping'].loc[(SST_concat['correct_stop'] == 0) & (~SST_concat['SSD.RESP'].isnull()) &\\\n",
    "                                           (SST_concat['SSD.RESP'] != SST_concat['correct_stimulus_mapping_1']) & (SST_concat['SSD.RESP'] != SST_concat['correct_stimulus_mapping_2'])] = float(0)\n",
    "\n",
    "    SST_concat['correct_stop_mapping'].loc[(SST_concat['correct_stop'] == 0) & (SST_concat['SSD.RESP'].isnull()) & (~SST_concat['StopSignal.RESP'].isnull()) &\\\n",
    "                                           ((SST_concat['StopSignal.RESP'] == SST_concat['correct_stimulus_mapping_1']) | (SST_concat['StopSignal.RESP'] == SST_concat['correct_stimulus_mapping_2']))] = float(1)\n",
    "\n",
    "    SST_concat['correct_stop_mapping'].loc[(SST_concat['correct_stop'] == 0) & (SST_concat['SSD.RESP'].isnull()) & (~SST_concat['StopSignal.RESP'].isnull()) &\\\n",
    "                                           ((SST_concat['StopSignal.RESP'] != SST_concat['correct_stimulus_mapping_1']) & (SST_concat['StopSignal.RESP'] != SST_concat['correct_stimulus_mapping_2']))] = float(0)\n",
    "    \n",
    "    SST_concat['correct_stop_mapping'].loc[(SST_concat['correct_stop'] == 0) & (SST_concat['SSD.RESP'].isnull()) & (SST_concat['StopSignal.RESP'].isnull()) & (~SST_concat['Fix.RESP'].isnull()) &\\\n",
    "                                           ((SST_concat['Fix.RESP'] == SST_concat['correct_stimulus_mapping_1']) | (SST_concat['Fix.RESP'] == SST_concat['correct_stimulus_mapping_2']))] = float(1)\n",
    "\n",
    "    SST_concat['correct_stop_mapping'].loc[(SST_concat['correct_stop'] == 0) & (SST_concat['SSD.RESP'].isnull()) & (SST_concat['StopSignal.RESP'].isnull()) & (~SST_concat['Fix.RESP'].isnull()) &\\\n",
    "                                           ((SST_concat['Fix.RESP'] != SST_concat['correct_stimulus_mapping_1']) & (SST_concat['Fix.RESP'] != SST_concat['correct_stimulus_mapping_2']))] = float(0)\n",
    "    return SST_concat\n",
    "\n",
    "def set_correct_go_rt(SST_concat):\n",
    "\n",
    "    go_fix_resp = (~SST_concat['Fix.RESP'].isnull()) & \\\n",
    "                  (SST_concat['Go.RESP'].isnull()) & \\\n",
    "                  (SST_concat['trial_type'] == 'GoTrial')\n",
    "    go_fix_idx = go_fix_resp[go_fix_resp == True].index\n",
    "\n",
    "\n",
    "    SST_concat['go_rt_adjusted'] = SST_concat['Go.RT'].copy()\n",
    "    SST_concat['go_rt_adjusted'][go_fix_idx] = SST_concat.loc[go_fix_idx]['Go.Duration'] +  \\\n",
    "                                               SST_concat.loc[go_fix_idx]['Fix.RT']\n",
    "    \n",
    "    return SST_concat\n",
    "\n",
    "def set_correct_stop_rt(SST_concat):\n",
    "    stop_trial_mask = (SST_concat['trial_type'] == 'StopTrial')\n",
    "    stop_trial_idx = stop_trial_mask[stop_trial_mask == True].index\n",
    "\n",
    "    SST_concat['stop_rt_adjusted'] = SST_concat['StopSignal.RT']\n",
    "\n",
    "    stop_fix_resp = (~SST_concat['Fix.RESP'].isnull()) & \\\n",
    "                    (SST_concat['StopSignal.RESP'].isnull()) & \\\n",
    "                    ((SST_concat['trial_type'] == 'StopTrial') & (SST_concat['correct_stop'] == 0))\n",
    "    stop_fix_idx = stop_fix_resp[stop_fix_resp == True].index\n",
    "\n",
    "    stop_SSD_resp = ~SST_concat['SSD.RESP'].isnull()\n",
    "\n",
    "    SST_concat['stop_rt_adjusted'][stop_fix_resp] = SST_concat.loc[stop_fix_resp]['StopSignal.Duration'] +\\\n",
    "                                                    SST_concat.loc[stop_fix_resp]['Fix.RT']\n",
    "\n",
    "    SST_concat['stop_rt_adjusted'][stop_SSD_resp] = SST_concat.loc[stop_SSD_resp]['SSD.RT']\n",
    "\n",
    "    stop_resp_mask = ((~(SST_concat['StopSignal.RESP'].isnull()) | ~(SST_concat['Fix.RESP'].isnull()) \\\n",
    "                      | ~(SST_concat['SSD.RESP'].isnull())) & \\\n",
    "                      (~SST_concat['stop_rt_adjusted'].isnull()))\n",
    "    stop_resp_idx = stop_resp_mask[stop_resp_mask == True].index\n",
    "\n",
    "    SST_concat['stop_rt_adjusted'][stop_resp_idx] = \\\n",
    "            SST_concat['stop_rt_adjusted'][stop_resp_idx] + SST_concat['SSDDur'][stop_resp_idx]\n",
    "\n",
    "    # Re-calc alt version\n",
    "    SST_concat['true_stop_rt_adjusted'] = SST_concat['StopSignal.RT']\n",
    "    SST_concat['true_stop_rt_adjusted'][stop_fix_resp] =\\\n",
    "        SST_concat.loc[stop_fix_resp]['StopSignal.Duration'] + SST_concat.loc[stop_fix_resp]['Fix.RT']\n",
    "    SST_concat['true_stop_rt_adjusted'][stop_SSD_resp] = SST_concat.loc[stop_SSD_resp]['SSD.RT']\n",
    "\n",
    "    true_stop_resp_mask = ((~(SST_concat['StopSignal.RESP'].isnull()) | ~(SST_concat['Fix.RESP'].isnull())) & \\\n",
    "                           (~SST_concat['true_stop_rt_adjusted'].isnull()))\n",
    "    true_stop_resp_idx = true_stop_resp_mask[true_stop_resp_mask == True].index\n",
    "\n",
    "    SST_concat['true_stop_rt_adjusted'][true_stop_resp_idx] =\\\n",
    "        SST_concat['true_stop_rt_adjusted'][true_stop_resp_idx] + SST_concat['SSDDur'][true_stop_resp_idx]\n",
    "    \n",
    "    return SST_concat\n",
    "\n",
    "def set_go_stim_dur(SST_concat):\n",
    "    SST_concat['go_stim_duration'] = SST_concat['Go.RT'].copy()\n",
    "    SST_concat['go_stim_duration'].loc[SST_concat['Go.RT'] == 0] = SST_concat['Go.Duration'].loc[SST_concat['Go.RT'] == 0]\n",
    "\n",
    "    SST_concat['go_stim_duration'].loc[~(SST_concat['SSD.RESP'].isnull())] = SST_concat.loc[~SST_concat['SSD.RESP'].isnull()]['SSD.RT']\n",
    "    SST_concat['go_stim_duration'].loc[(SST_concat['SSD.RT']  == 0)] = SST_concat.loc[SST_concat['SSD.RT'] == 0]['SSDDur']\n",
    "    return SST_concat\n",
    "\n",
    "def clean_df(df, switch=False):\n",
    "    '''This combines all of the above function into one function'''\n",
    "    \n",
    "    # Extra check\n",
    "    df = check_subj_lineup(df)\n",
    "    \n",
    "    df = set_trial_type(df)\n",
    "    df = fix_resps(df)\n",
    "    \n",
    "    if switch:\n",
    "        df = switch_df(df)\n",
    "    \n",
    "    df = set_correct_go(df)\n",
    "    df = set_correct_stop(df)\n",
    "    df = set_correct_stim(df)\n",
    "    df = set_correct_go_rt(df)\n",
    "    df = set_correct_stop_rt(df)\n",
    "    df = set_go_stim_dur(df)\n",
    "    \n",
    "    return df"
   ]
  },
  {
   "cell_type": "markdown",
   "metadata": {},
   "source": [
    "### The next piece is similar to above, but for the SST_Problems script. A number of the non-plotting analysis (not all, but some key ones for comparison) are re-created below in the analysis function, s.t., it can easily be used to compare between dataframes"
   ]
  },
  {
   "cell_type": "code",
   "execution_count": 3,
   "metadata": {},
   "outputs": [],
   "source": [
    "def stop_fail_accuracy(df):\n",
    "    try: \n",
    "        acc = len(df.loc[df['correct_stop_mapping'] == 1]) / len(df.loc[df['correct_stop'] == 0])\n",
    "    except ZeroDivisionError:\n",
    "        acc = np.NaN\n",
    "    return acc\n",
    "\n",
    "def go_accuracy(df):\n",
    "    try:\n",
    "        denom = len(df.loc[(df['correct_go_response'] != 'omission') & (df['trial_type'] == 'GoTrial')])\n",
    "        acc = len(df.loc[df['correct_go_response'] == 1]) / denom\n",
    "    except ZeroDivisionError:\n",
    "        acc = np.NaN\n",
    "    return acc\n",
    "\n",
    "def zero_SSD_acc(df): \n",
    "    try: \n",
    "        acc = len(df.loc[(df['SSDDur'] == 0) & (df['correct_stop'] == 1.0)]) / len(df.loc[df['SSDDur'] == 0])\n",
    "    except ZeroDivisionError:\n",
    "        acc = np.NaN\n",
    "    \n",
    "    return acc   \n",
    "\n",
    "def analysis(SST_concat):\n",
    "    '''The point of this messy analysis function is to condense the 1 or 2 number results from the\n",
    "    original SST_problems script into easily comparable numbers.'''\n",
    "    \n",
    "    print('n_subjects =', len(SST_concat.NARGUID.unique()))\n",
    "    \n",
    "    group_narguid = SST_concat.groupby('NARGUID')\n",
    "    \n",
    "    narguid_stop_duration = group_narguid.apply(lambda x: \n",
    "                                                np.mean(x.loc[x['trial_type'] == 'StopTrial']['go_stim_duration']))\n",
    "    narguid_go_duration = group_narguid.apply(lambda x: \n",
    "                                              np.mean(x.loc[x['trial_type'] == 'GoTrial']['go_stim_duration']))\n",
    "    \n",
    "    print('1', len(SST_concat.loc[(SST_concat['trial_type'] == 'StopTrial') & (SST_concat['go_stim_duration'] == 0)]) / \\\n",
    "               len(SST_concat.loc[SST_concat['trial_type'] == 'StopTrial']))\n",
    "    \n",
    "    print('2', np.mean(narguid_go_duration) - np.mean(narguid_stop_duration))\n",
    "    \n",
    "    narguid_average_stop_rt = group_narguid.apply(lambda x: \n",
    "                                                  np.mean(x.loc[x['correct_stop'] == 0]['stop_rt_adjusted']))\n",
    "    print('stop failure rt:', np.mean(narguid_average_stop_rt))\n",
    "    print('sdev:', np.std(narguid_average_stop_rt))\n",
    "    \n",
    "    narguid_average_go_rt = group_narguid.apply(lambda x: np.mean(x.loc[(x['correct_go_response'] != 'omission') \n",
    "                                                & (x['trial_type'] == 'GoTrial')]['go_rt_adjusted']))\n",
    "    print('overt go response mean:', np.mean(narguid_average_go_rt))\n",
    "    print('sdev:', np.std(narguid_average_go_rt))\n",
    "    \n",
    "    print('difference beween these:', np.mean(narguid_average_stop_rt) - np.mean(narguid_average_go_rt))\n",
    "    print('3', sum(np.greater(narguid_average_stop_rt, narguid_average_go_rt)))\n",
    "    print('4', sum(np.greater(narguid_average_stop_rt, narguid_average_go_rt)) / len(SST_concat['NARGUID'].unique()))\n",
    "    \n",
    "    true_narguid_average_stop_rt = group_narguid.apply(lambda x: \n",
    "                                                       np.mean(x.loc[x['correct_stop'] == 0]['true_stop_rt_adjusted']))\n",
    "\n",
    "    print('true stop failure rt:', np.mean(true_narguid_average_stop_rt))\n",
    "    print('true sdev:', np.std(true_narguid_average_stop_rt))   \n",
    "\n",
    "    print('true difference beween these:', np.mean(true_narguid_average_stop_rt) - np.mean(narguid_average_go_rt))\n",
    "    print('5', sum(np.greater(true_narguid_average_stop_rt, narguid_average_go_rt)))\n",
    "    print('6', sum(np.greater(true_narguid_average_stop_rt, narguid_average_go_rt)) / len(SST_concat['NARGUID'].unique()))\n",
    "    \n",
    "    #make a dataframe of rts \n",
    "    narguid_df = pd.DataFrame({'stop_rt': narguid_average_stop_rt, 'go_rt':narguid_average_go_rt})\n",
    "    narguid_df['true_stop_rt'] = true_narguid_average_stop_rt\n",
    "\n",
    "    #add accuracies to that dataframe\n",
    "    narguid_df['stop_acc'] = np.NaN\n",
    "    narguid_df['go_acc'] = np.NaN\n",
    "\n",
    "    narguid_df['go_acc'] = group_narguid.apply(lambda x: go_accuracy(x))\n",
    "    narguid_df['stop_acc'] = group_narguid.apply(lambda x: stop_fail_accuracy(x))\n",
    "\n",
    "    #if a participant had no stop failures, then they need to be dropped \n",
    "    narguid_df = narguid_df.dropna(how='any')\n",
    "    \n",
    "    mu = np.mean(narguid_df['go_rt'] - narguid_df['stop_rt'])\n",
    "    N = len(narguid_df)\n",
    "    sigma = np.std(narguid_df['go_rt'] - narguid_df['stop_rt'])\n",
    "    print('7', stats.norm.interval(0.95, loc=mu, scale=sigma/math.sqrt(N)))\n",
    "    \n",
    "    mu = np.mean(narguid_df['go_rt'] - narguid_df['true_stop_rt'])\n",
    "    N = len(narguid_df)\n",
    "    sigma = np.std(narguid_df['go_rt'] - narguid_df['true_stop_rt'])\n",
    "    print('8', stats.norm.interval(0.95, loc=mu, scale=sigma/math.sqrt(N)))\n",
    "    \n",
    "    mu = np.mean(narguid_df['stop_acc'] - narguid_df['go_acc'])\n",
    "    N = len(narguid_df)\n",
    "    sigma = np.std(narguid_df['stop_acc'] - narguid_df['go_acc'])\n",
    "    print('9', stats.norm.interval(.95, loc=mu,scale=sigma/math.sqrt(N)))\n",
    "    \n",
    "    print('stop acc', np.mean(narguid_df['stop_acc']))\n",
    "    print('go acc', np.mean(narguid_df['go_acc']))\n",
    "    \n",
    "    print('10', len(SST_concat.loc[SST_concat['SSDDur'] == 0])/\\\n",
    "          len(SST_concat.loc[SST_concat['trial_type'] == 'StopTrial']))\n",
    "    \n",
    "    print('11', len(SST_concat.loc[SST_concat['SSDDur'] == 0]))\n",
    "    \n",
    "    overlap = len(SST_concat.loc[((SST_concat['SSDDur'] == 0) & \n",
    "                              (SST_concat['SSD.RT'] < 50) &\n",
    "                              (SST_concat['SSD.RT'] > 0))])\n",
    "    print('12', overlap / len(SST_concat.loc[SST_concat['SSDDur'] == 0]), overlap)\n",
    "    \n",
    "    zero_acc = group_narguid.apply(lambda x: zero_SSD_acc(x))\n",
    "    print('13', np.mean(zero_acc))\n",
    "    \n",
    "    SSD_bug = SST_concat.loc[(SST_concat['SSD.RT'] < 50) & (SST_concat['SSD.RT'] > 0) & (SST_concat['SSDDur'] <=50)]['NARGUID']\n",
    "    print('14', len(SSD_bug.unique())/ len(SST_concat['NARGUID'].unique()))\n",
    "    \n",
    "    print('15', len(SSD_bug) / len(SST_concat))\n",
    "    print('percent of stop trials', len(SSD_bug) / len(SST_concat.loc[SST_concat['trial_type'] == 'StopTrial']))\n",
    "    \n",
    "    drop_zero_ssd_group = SST_concat.set_index('NARGUID').drop(SSD_bug.unique()).groupby('NARGUID')\n",
    "    drop_zero_acc = drop_zero_ssd_group.apply(lambda x: zero_SSD_acc(x))\n",
    "    print('16', np.mean(drop_zero_acc))\n",
    "    \n",
    "    print('17', len(SST_concat.loc[SST_concat['SSDDur'] > 700]) / len(SST_concat.loc[SST_concat['trial_type'] =='StopTrial']))\n",
    "    \n",
    "    print('18', len(SST_concat.loc[(SST_concat['correct_go_response'] == 0) & (SST_concat['TrialCode'] == 'CorrectGo')]))\n",
    "    print('19', len(SST_concat.loc[(SST_concat['correct_go_response'] == 1) & (SST_concat['TrialCode'] == 'IncorrectGo')])) \n",
    "    print('20', len(SST_concat.loc[(SST_concat['correct_stop'] == 0) & (SST_concat['TrialCode'] == 'CorrectStop')]))"
   ]
  },
  {
   "cell_type": "code",
   "execution_count": 4,
   "metadata": {},
   "outputs": [],
   "source": [
    "def run_full(loc, switch):\n",
    "    df = pd.read_csv(loc, low_memory=False)\n",
    "    df = clean_df(df, switch=switch)\n",
    "    analysis(df)"
   ]
  },
  {
   "cell_type": "code",
   "execution_count": 5,
   "metadata": {},
   "outputs": [
    {
     "name": "stdout",
     "output_type": "stream",
     "text": [
      "1 switch == False\n",
      "\n",
      "n_subjects = 8450\n",
      "1 0.07896200733814653\n",
      "2 341.09376178640696\n",
      "stop failure rt: 495.1063059378985\n",
      "sdev: 139.79689111616526\n",
      "overt go response mean: 543.1860337060224\n",
      "sdev: 95.2038806360494\n",
      "difference beween these: -48.07972776812386\n",
      "3 1553\n",
      "4 0.18378698224852072\n",
      "true stop failure rt: 459.1403240842832\n",
      "true sdev: 110.18783822752539\n",
      "true difference beween these: -84.0457096217392\n",
      "5 602\n",
      "6 0.07124260355029585\n",
      "7 (46.123274341843036, 50.05667572666645)\n",
      "8 (82.53812173052962, 85.57379204521)\n",
      "9 (-0.10820971184217351, -0.10367010849338562)\n",
      "stop acc 0.7857503064764038\n",
      "go acc 0.8916902166441691\n",
      "10 0.09099893478518167\n",
      "11 46131\n",
      "12 0.1322754763607986 6102\n",
      "13 0.6017604980235539\n",
      "14 0.026745562130177515\n",
      "15 0.0020802103879026955\n",
      "percent of stop trials 0.012482739574703122\n",
      "16 0.6276923906725549\n",
      "17 0.011508265277942163\n",
      "18 57215\n",
      "19 520\n",
      "20 1080\n",
      "\n",
      "--------\n",
      "\n",
      "1 switch == True\n",
      "\n",
      "n_subjects = 8450\n",
      "1 0.07896200733814653\n",
      "2 341.09376178640696\n",
      "stop failure rt: 495.1063059378985\n",
      "sdev: 139.79689111616526\n",
      "overt go response mean: 543.1860337060224\n",
      "sdev: 95.2038806360494\n",
      "difference beween these: -48.07972776812386\n",
      "3 1553\n",
      "4 0.18378698224852072\n",
      "true stop failure rt: 459.1403240842832\n",
      "true sdev: 110.18783822752539\n",
      "true difference beween these: -84.0457096217392\n",
      "5 602\n",
      "6 0.07124260355029585\n",
      "7 (46.123274341843036, 50.05667572666645)\n",
      "8 (82.53812173052962, 85.57379204521)\n",
      "9 (-0.11149092670269209, -0.10709884684323101)\n",
      "stop acc 0.7929273939970926\n",
      "go acc 0.9022222807700402\n",
      "10 0.09099893478518167\n",
      "11 46131\n",
      "12 0.1322754763607986 6102\n",
      "13 0.6017604980235539\n",
      "14 0.026745562130177515\n",
      "15 0.0020802103879026955\n",
      "percent of stop trials 0.012482739574703122\n",
      "16 0.6276923906725549\n",
      "17 0.011508265277942163\n",
      "18 61506\n",
      "19 29242\n",
      "20 1080\n",
      "\n",
      "--------\n",
      "\n",
      "2 switch == False\n",
      "\n",
      "n_subjects = 7826\n",
      "1 0.0778175313059034\n",
      "2 340.47771573388104\n",
      "stop failure rt: 496.24331225322123\n",
      "sdev: 140.21501447911731\n",
      "overt go response mean: 544.5201556774583\n",
      "sdev: 95.44618211687843\n",
      "difference beween these: -48.276843424237086\n",
      "3 1437\n",
      "4 0.18361870687452084\n",
      "true stop failure rt: 460.162839741291\n",
      "true sdev: 110.87420807085401\n",
      "true difference beween these: -84.35731593616731\n",
      "5 551\n",
      "6 0.07040633784819832\n",
      "7 (46.25277696225193, 50.32406234622768)\n",
      "8 (82.79224945977295, 85.94553487256682)\n",
      "9 (-0.10787405069978044, -0.10322713175107405)\n",
      "stop acc 0.7886048743181153\n",
      "go acc 0.8941554655435282\n",
      "10 0.08979044211602351\n",
      "11 42162\n",
      "12 0.1333428205493098 5622\n",
      "13 0.6030111076135196\n",
      "14 0.026578073089700997\n",
      "15 0.0020693131158247436\n",
      "percent of stop trials 0.012415878694948462\n",
      "16 0.629061687619189\n",
      "17 0.011174290825453617\n",
      "18 52744\n",
      "19 447\n",
      "20 996\n",
      "\n",
      "--------\n",
      "\n",
      "2 switch == True\n",
      "\n",
      "n_subjects = 7826\n",
      "1 0.0778175313059034\n",
      "2 340.47771573388104\n",
      "stop failure rt: 496.24331225322123\n",
      "sdev: 140.21501447911731\n",
      "overt go response mean: 544.5201556774583\n",
      "sdev: 95.44618211687843\n",
      "difference beween these: -48.276843424237086\n",
      "3 1437\n",
      "4 0.18361870687452084\n",
      "true stop failure rt: 460.162839741291\n",
      "true sdev: 110.87420807085401\n",
      "true difference beween these: -84.35731593616731\n",
      "5 551\n",
      "6 0.07040633784819832\n",
      "7 (46.25277696225193, 50.32406234622768)\n",
      "8 (82.79224945977295, 85.94553487256682)\n",
      "9 (-0.11047477720277077, -0.10595007454117783)\n",
      "stop acc 0.7949081687976374\n",
      "go acc 0.9031205946695975\n",
      "10 0.08979044211602351\n",
      "11 42162\n",
      "12 0.1333428205493098 5622\n",
      "13 0.6030111076135196\n",
      "14 0.026578073089700997\n",
      "15 0.0020693131158247436\n",
      "percent of stop trials 0.012415878694948462\n",
      "16 0.629061687619189\n",
      "17 0.011174290825453617\n",
      "18 56025\n",
      "19 23189\n",
      "20 996\n",
      "\n",
      "--------\n",
      "\n",
      "3 switch == False\n",
      "\n",
      "n_subjects = 8017\n",
      "1 0.07932884231536926\n",
      "2 341.6738668496366\n",
      "stop failure rt: 494.2227860687875\n",
      "sdev: 139.630021862784\n",
      "overt go response mean: 542.6721686057776\n",
      "sdev: 95.11789022836359\n",
      "difference beween these: -48.44938253699013\n",
      "3 1478\n",
      "4 0.18435823874267182\n",
      "true stop failure rt: 458.663440075565\n",
      "true sdev: 110.68867832414564\n",
      "true difference beween these: -84.00872853021264\n",
      "5 576\n",
      "6 0.0718473244355744\n",
      "7 (46.45162802309738, 50.46829033499653)\n",
      "8 (82.45228969345874, 85.58632065107977)\n",
      "9 (-0.10781664466976242, -0.10318265633419262)\n",
      "stop acc 0.7864888564412229\n",
      "go acc 0.8919885069431858\n",
      "10 0.09183507984031936\n",
      "11 44169\n",
      "12 0.13618148475174896 6015\n",
      "13 0.6023113001591768\n",
      "14 0.027691156292877633\n",
      "15 0.0021610328052887613\n",
      "percent of stop trials 0.012967814371257484\n",
      "16 0.6292421683813174\n",
      "17 0.008722139055222887\n",
      "18 55010\n",
      "19 39\n",
      "20 1018\n",
      "\n",
      "--------\n",
      "\n",
      "3 switch == True\n",
      "\n",
      "n_subjects = 8017\n",
      "1 0.07932884231536926\n",
      "2 341.6738668496366\n",
      "stop failure rt: 494.2227860687875\n",
      "sdev: 139.630021862784\n",
      "overt go response mean: 542.6721686057776\n",
      "sdev: 95.11789022836359\n",
      "difference beween these: -48.44938253699013\n",
      "3 1478\n",
      "4 0.18435823874267182\n",
      "true stop failure rt: 458.663440075565\n",
      "true sdev: 110.68867832414564\n",
      "true difference beween these: -84.00872853021264\n",
      "5 576\n",
      "6 0.0718473244355744\n",
      "7 (46.45162802309738, 50.46829033499653)\n",
      "8 (82.45228969345874, 85.58632065107977)\n",
      "9 (-0.11126282994171807, -0.10678807670113322)\n",
      "stop acc 0.7940313815893221\n",
      "go acc 0.9030568349107326\n",
      "10 0.09183507984031936\n",
      "11 44169\n",
      "12 0.13618148475174896 6015\n",
      "13 0.6023113001591768\n",
      "14 0.027691156292877633\n",
      "15 0.0021610328052887613\n",
      "percent of stop trials 0.012967814371257484\n",
      "16 0.6292421683813174\n",
      "17 0.008722139055222887\n",
      "18 59301\n",
      "19 28761\n",
      "20 1018\n",
      "\n",
      "--------\n",
      "\n",
      "4 switch == False\n",
      "\n",
      "n_subjects = 7418\n",
      "1 0.07820841197088164\n",
      "2 341.0413485216158\n",
      "stop failure rt: 495.2632160454952\n",
      "sdev: 139.87523968484464\n",
      "overt go response mean: 544.0055007013291\n",
      "sdev: 95.29388082352672\n",
      "difference beween these: -48.742284655833885\n",
      "3 1364\n",
      "4 0.18387705581019143\n",
      "true stop failure rt: 459.62011035328004\n",
      "true sdev: 111.28471354797148\n",
      "true difference beween these: -84.38539034804904\n",
      "5 525\n",
      "6 0.07077379347533028\n",
      "7 (46.678076596778524, 50.83043084815911)\n",
      "8 (82.77052277220449, 86.02419605716375)\n",
      "9 (-0.10744215392763905, -0.10270337961652111)\n",
      "stop acc 0.7895095847778736\n",
      "go acc 0.8945823515499378\n",
      "10 0.0906533656870675\n",
      "11 40348\n",
      "12 0.13728065827302469 5539\n",
      "13 0.6033792259080422\n",
      "14 0.027635481261795634\n",
      "15 0.0021509241784248524\n",
      "percent of stop trials 0.012905545070549114\n",
      "16 0.6304430461322904\n",
      "17 0.008313112249483239\n",
      "18 50633\n",
      "19 37\n",
      "20 941\n",
      "\n",
      "--------\n",
      "\n",
      "4 switch == True\n",
      "\n",
      "n_subjects = 7418\n",
      "1 0.07820841197088164\n",
      "2 341.0413485216158\n",
      "stop failure rt: 495.2632160454952\n",
      "sdev: 139.87523968484464\n",
      "overt go response mean: 544.0055007013291\n",
      "sdev: 95.29388082352672\n",
      "difference beween these: -48.742284655833885\n",
      "3 1364\n",
      "4 0.18387705581019143\n",
      "true stop failure rt: 459.62011035328004\n",
      "true sdev: 111.28471354797148\n",
      "true difference beween these: -84.38539034804904\n",
      "5 525\n",
      "6 0.07077379347533028\n",
      "7 (46.678076596778524, 50.83043084815911)\n",
      "8 (82.77052277220449, 86.02419605716375)\n",
      "9 (-0.11017608786300057, -0.1055695293610156)\n",
      "stop acc 0.7961401575277424\n",
      "go acc 0.9040129661397343\n",
      "10 0.0906533656870675\n",
      "11 40348\n",
      "12 0.13728065827302469 5539\n",
      "13 0.6033792259080422\n",
      "14 0.027635481261795634\n",
      "15 0.0021509241784248524\n",
      "percent of stop trials 0.012905545070549114\n",
      "16 0.6304430461322904\n",
      "17 0.008313112249483239\n",
      "18 53914\n",
      "19 22779\n",
      "20 941\n",
      "\n",
      "--------\n",
      "\n",
      "5 switch == False\n",
      "\n",
      "n_subjects = 7204\n",
      "1 0.07003979270775496\n",
      "2 333.05139181936147\n",
      "stop failure rt: 489.9123231378731\n",
      "sdev: 119.79721462909498\n",
      "overt go response mean: 542.9531200124578\n",
      "sdev: 90.67395387815769\n",
      "difference beween these: -53.040796874584714\n",
      "3 1107\n",
      "4 0.1536646307606885\n",
      "true stop failure rt: 458.19565322771695\n",
      "true sdev: 98.06370187708792\n",
      "true difference beween these: -84.75746678474087\n",
      "5 355\n",
      "6 0.04927817878956135\n",
      "7 (51.44467230868753, 54.636921440483505)\n",
      "8 (83.39546827651233, 86.11946529297077)\n",
      "9 (-0.10644632845673829, -0.10171330420948616)\n",
      "stop acc 0.8048330188566485\n",
      "go acc 0.9089128351897439\n",
      "10 0.07319544697390339\n",
      "11 31638\n",
      "12 0.043112712560844556 1364\n",
      "13 0.6367515961803011\n",
      "14 0.012354247640199888\n",
      "15 0.0005602597322475168\n",
      "percent of stop trials 0.003361558393485101\n",
      "16 0.6483069238932785\n",
      "17 0.0012076624097723486\n",
      "18 41737\n",
      "19 24\n",
      "20 751\n",
      "\n",
      "--------\n",
      "\n",
      "5 switch == True\n",
      "\n",
      "n_subjects = 7204\n",
      "1 0.07003979270775496\n",
      "2 333.05139181936147\n",
      "stop failure rt: 489.9123231378731\n",
      "sdev: 119.79721462909498\n",
      "overt go response mean: 542.9531200124578\n",
      "sdev: 90.67395387815769\n",
      "difference beween these: -53.040796874584714\n",
      "3 1107\n",
      "4 0.1536646307606885\n",
      "true stop failure rt: 458.19565322771695\n",
      "true sdev: 98.06370187708792\n",
      "true difference beween these: -84.75746678474087\n",
      "5 355\n",
      "6 0.04927817878956135\n",
      "7 (51.44467230868753, 54.636921440483505)\n",
      "8 (83.39546827651233, 86.11946529297077)\n",
      "9 (-0.10952389103000225, -0.10494349881365193)\n",
      "stop acc 0.811691549302294\n",
      "go acc 0.9189252442241046\n",
      "10 0.07319544697390339\n"
     ]
    },
    {
     "name": "stdout",
     "output_type": "stream",
     "text": [
      "11 31638\n",
      "12 0.043112712560844556 1364\n",
      "13 0.6367515961803011\n",
      "14 0.012354247640199888\n",
      "15 0.0005602597322475168\n",
      "percent of stop trials 0.003361558393485101\n",
      "16 0.6483069238932785\n",
      "17 0.0012076624097723486\n",
      "18 44465\n",
      "19 23275\n",
      "20 751\n",
      "\n",
      "--------\n",
      "\n",
      "6 switch == False\n",
      "\n",
      "n_subjects = 6690\n",
      "1 0.06932735426008968\n",
      "2 332.79403288490437\n",
      "stop failure rt: 491.0717000620442\n",
      "sdev: 120.13356534595327\n",
      "overt go response mean: 544.2207868214309\n",
      "sdev: 90.78990470116364\n",
      "difference beween these: -53.149086759386705\n",
      "3 1033\n",
      "4 0.15440956651718984\n",
      "true stop failure rt: 459.28688819810804\n",
      "true sdev: 98.66474421460153\n",
      "true difference beween these: -84.93389862332288\n",
      "5 333\n",
      "6 0.04977578475336323\n",
      "7 (51.48817822539252, 54.80999529338531)\n",
      "8 (83.51004320508747, 86.35775404156223)\n",
      "9 (-0.10613682458536614, -0.10126456977286274)\n",
      "stop acc 0.8071167002624716\n",
      "go acc 0.9108173974415686\n",
      "10 0.07244145490782262\n",
      "11 29078\n",
      "12 0.04298782584771992 1250\n",
      "13 0.6369995873858284\n",
      "14 0.01210762331838565\n",
      "15 0.0005526490616176715\n",
      "percent of stop trials 0.003315894369706029\n",
      "16 0.6483490811516509\n",
      "17 0.0011833582461385152\n",
      "18 38802\n",
      "19 22\n",
      "20 703\n",
      "\n",
      "--------\n",
      "\n",
      "6 switch == True\n",
      "\n",
      "n_subjects = 6690\n",
      "1 0.06932735426008968\n",
      "2 332.79403288490437\n",
      "stop failure rt: 491.0717000620442\n",
      "sdev: 120.13356534595327\n",
      "overt go response mean: 544.2207868214309\n",
      "sdev: 90.78990470116364\n",
      "difference beween these: -53.149086759386705\n",
      "3 1033\n",
      "4 0.15440956651718984\n",
      "true stop failure rt: 459.28688819810804\n",
      "true sdev: 98.66474421460153\n",
      "true difference beween these: -84.93389862332288\n",
      "5 333\n",
      "6 0.04977578475336323\n",
      "7 (51.48817822539252, 54.80999529338531)\n",
      "8 (83.51004320508747, 86.35775404156223)\n",
      "9 (-0.10871115780750273, -0.10397143663876665)\n",
      "stop acc 0.8130321988379159\n",
      "go acc 0.9193734960610347\n",
      "10 0.07244145490782262\n",
      "11 29078\n",
      "12 0.04298782584771992 1250\n",
      "13 0.6369995873858284\n",
      "14 0.01210762331838565\n",
      "15 0.0005526490616176715\n",
      "percent of stop trials 0.003315894369706029\n",
      "16 0.6483490811516509\n",
      "17 0.0011833582461385152\n",
      "18 40923\n",
      "19 18535\n",
      "20 703\n",
      "\n",
      "--------\n",
      "\n"
     ]
    }
   ],
   "source": [
    "for i in range(1, 7):\n",
    "    \n",
    "    print(i, 'switch == False')\n",
    "    print()\n",
    "    \n",
    "    run_full('merged_data/' + str(i) + '_.csv', switch=False)\n",
    "    print()\n",
    "    print('--------')\n",
    "    print()\n",
    "    \n",
    "    print(i, 'switch == True')\n",
    "    print()\n",
    "    \n",
    "    run_full('merged_data/' + str(i) + '_.csv', switch=True)\n",
    "    print()\n",
    "    print('--------')\n",
    "    print()"
   ]
  },
  {
   "cell_type": "markdown",
   "metadata": {},
   "source": [
    "All relevant corresponding output from published https://github.com/mckenziephagen/ABCD_Stop_Signal/blob/master/scripts/SST_manuscript/SST_problems.ipynb\n",
    "\n",
    "n_subjects = 7231\n",
    "\n",
    "1 0.07796524224404186\n",
    "\n",
    "2 340.6331825934649\n",
    "\n",
    "stop failure rt: 495.01266545367145\n",
    "\n",
    "sdev: 139.96034292909457\n",
    "\n",
    "overt go response mean: 543.6630781157475\n",
    "\n",
    "sdev: 95.29722256609477\n",
    "\n",
    "difference beween these: -48.65041266207601\n",
    "\n",
    "3 1326\n",
    "\n",
    "4 0.18337712626192781\n",
    "\n",
    "7 (46.559456555770865, 50.76564197295882)\n",
    "\n",
    "9 (-0.11187416423722574, -0.10639848790163689)\n",
    "\n",
    "10 0.09017194486700779\n",
    "\n",
    "13 0.6045009332058497\n",
    "\n",
    "14 0.027243811367722307\n",
    "\n",
    "15 0.0021101276909602177\n",
    "\n",
    "16 0.0021101276909602177\n",
    "\n",
    "17 0.008309131978057438\n",
    "\n",
    "18 57255\n",
    "\n",
    "19 520\n",
    "\n",
    "20 1082"
   ]
  },
  {
   "cell_type": "markdown",
   "metadata": {},
   "source": [
    "### For a more readable version, we narrow it down to just considering 1 and 5, i.e., all avaliable subjects, and filtered by the behavioral performance flag."
   ]
  },
  {
   "cell_type": "code",
   "execution_count": 6,
   "metadata": {},
   "outputs": [
    {
     "name": "stdout",
     "output_type": "stream",
     "text": [
      "1 switch == False\n",
      "\n",
      "n_subjects = 8450\n",
      "1 0.07896200733814653\n",
      "2 341.09376178640696\n",
      "stop failure rt: 495.1063059378985\n",
      "sdev: 139.79689111616526\n",
      "overt go response mean: 543.1860337060224\n",
      "sdev: 95.2038806360494\n",
      "difference beween these: -48.07972776812386\n",
      "3 1553\n",
      "4 0.18378698224852072\n",
      "true stop failure rt: 459.1403240842832\n",
      "true sdev: 110.18783822752539\n",
      "true difference beween these: -84.0457096217392\n",
      "5 602\n",
      "6 0.07124260355029585\n",
      "7 (46.123274341843036, 50.05667572666645)\n",
      "8 (82.53812173052962, 85.57379204521)\n",
      "9 (-0.10820971184217351, -0.10367010849338562)\n",
      "stop acc 0.7857503064764038\n",
      "go acc 0.8916902166441691\n",
      "10 0.09099893478518167\n",
      "11 46131\n",
      "12 0.1322754763607986 6102\n",
      "13 0.6017604980235539\n",
      "14 0.026745562130177515\n",
      "15 0.0020802103879026955\n",
      "percent of stop trials 0.012482739574703122\n",
      "16 0.6276923906725549\n",
      "17 0.011508265277942163\n",
      "18 57215\n",
      "19 520\n",
      "20 1080\n",
      "\n",
      "--------\n",
      "\n",
      "1 switch == True\n",
      "\n",
      "n_subjects = 8450\n",
      "1 0.07896200733814653\n",
      "2 341.09376178640696\n",
      "stop failure rt: 495.1063059378985\n",
      "sdev: 139.79689111616526\n",
      "overt go response mean: 543.1860337060224\n",
      "sdev: 95.2038806360494\n",
      "difference beween these: -48.07972776812386\n",
      "3 1553\n",
      "4 0.18378698224852072\n",
      "true stop failure rt: 459.1403240842832\n",
      "true sdev: 110.18783822752539\n",
      "true difference beween these: -84.0457096217392\n",
      "5 602\n",
      "6 0.07124260355029585\n",
      "7 (46.123274341843036, 50.05667572666645)\n",
      "8 (82.53812173052962, 85.57379204521)\n",
      "9 (-0.11149092670269209, -0.10709884684323101)\n",
      "stop acc 0.7929273939970926\n",
      "go acc 0.9022222807700402\n",
      "10 0.09099893478518167\n",
      "11 46131\n",
      "12 0.1322754763607986 6102\n",
      "13 0.6017604980235539\n",
      "14 0.026745562130177515\n",
      "15 0.0020802103879026955\n",
      "percent of stop trials 0.012482739574703122\n",
      "16 0.6276923906725549\n",
      "17 0.011508265277942163\n",
      "18 61506\n",
      "19 29242\n",
      "20 1080\n",
      "\n",
      "--------\n",
      "\n",
      "5 switch == False\n",
      "\n",
      "n_subjects = 7204\n",
      "1 0.07003979270775496\n",
      "2 333.05139181936147\n",
      "stop failure rt: 489.9123231378731\n",
      "sdev: 119.79721462909498\n",
      "overt go response mean: 542.9531200124578\n",
      "sdev: 90.67395387815769\n",
      "difference beween these: -53.040796874584714\n",
      "3 1107\n",
      "4 0.1536646307606885\n",
      "true stop failure rt: 458.19565322771695\n",
      "true sdev: 98.06370187708792\n",
      "true difference beween these: -84.75746678474087\n",
      "5 355\n",
      "6 0.04927817878956135\n",
      "7 (51.44467230868753, 54.636921440483505)\n",
      "8 (83.39546827651233, 86.11946529297077)\n",
      "9 (-0.10644632845673829, -0.10171330420948616)\n",
      "stop acc 0.8048330188566485\n",
      "go acc 0.9089128351897439\n",
      "10 0.07319544697390339\n",
      "11 31638\n",
      "12 0.043112712560844556 1364\n",
      "13 0.6367515961803011\n",
      "14 0.012354247640199888\n",
      "15 0.0005602597322475168\n",
      "percent of stop trials 0.003361558393485101\n",
      "16 0.6483069238932785\n",
      "17 0.0012076624097723486\n",
      "18 41737\n",
      "19 24\n",
      "20 751\n",
      "\n",
      "--------\n",
      "\n",
      "5 switch == True\n",
      "\n",
      "n_subjects = 7204\n",
      "1 0.07003979270775496\n",
      "2 333.05139181936147\n",
      "stop failure rt: 489.9123231378731\n",
      "sdev: 119.79721462909498\n",
      "overt go response mean: 542.9531200124578\n",
      "sdev: 90.67395387815769\n",
      "difference beween these: -53.040796874584714\n",
      "3 1107\n",
      "4 0.1536646307606885\n",
      "true stop failure rt: 458.19565322771695\n",
      "true sdev: 98.06370187708792\n",
      "true difference beween these: -84.75746678474087\n",
      "5 355\n",
      "6 0.04927817878956135\n",
      "7 (51.44467230868753, 54.636921440483505)\n",
      "8 (83.39546827651233, 86.11946529297077)\n",
      "9 (-0.10952389103000225, -0.10494349881365193)\n",
      "stop acc 0.811691549302294\n",
      "go acc 0.9189252442241046\n",
      "10 0.07319544697390339\n",
      "11 31638\n",
      "12 0.043112712560844556 1364\n",
      "13 0.6367515961803011\n",
      "14 0.012354247640199888\n",
      "15 0.0005602597322475168\n",
      "percent of stop trials 0.003361558393485101\n",
      "16 0.6483069238932785\n",
      "17 0.0012076624097723486\n",
      "18 44465\n",
      "19 23275\n",
      "20 751\n",
      "\n",
      "--------\n",
      "\n"
     ]
    }
   ],
   "source": [
    "for i in [1, 5]:\n",
    "    \n",
    "    print(i, 'switch == False')\n",
    "    print()\n",
    "    \n",
    "    run_full('merged_data/' + str(i) + '_.csv', switch=False)\n",
    "    print()\n",
    "    print('--------')\n",
    "    print()\n",
    "    \n",
    "    print(i, 'switch == True')\n",
    "    print()\n",
    "    \n",
    "    run_full('merged_data/' + str(i) + '_.csv', switch=True)\n",
    "    print()\n",
    "    print('--------')\n",
    "    print()"
   ]
  },
  {
   "cell_type": "markdown",
   "metadata": {},
   "source": [
    "All subjects e-prime data availible from the fasttrack reccomended series, no exclusions\n",
    "n_subjects = 8451\n",
    "\n",
    "By subject,\n",
    "mean overt go response rt 543.1833 (sd = 95.1986)\n",
    "mean stop failure rt 459.1527 (sd = 110.1871)\n",
    "difference = -84.0306\n",
    "\n",
    "Number of violators: 603\n",
    "% violators: 7.135%\n",
    "\n",
    "By subject,\n",
    "mean over go choice acc: 89.16%\n",
    "mean stop failure choice acc: 79.29%\n",
    "stop-go confidence 95% interval: (-0.10822904694210822, -0.10368935291333464)\n",
    "\n",
    "W/ switch flags applied:\n",
    "mean over go choice acc: 90.22%\n",
    "mean stop failure choice acc: 81.17%\n",
    "stop-go confidence 95% interval: (-0.11150986947489022, -0.10711768687360362)\n",
    "\n",
    "\n",
    "------------------------------------------\n",
    "\n",
    "\n",
    "All subjects e-prime data availible from the fasttrack reccomended series, behavioral performance flag based exclusions\n",
    "n_subjects = 7204\n",
    "\n",
    "By subject,\n",
    "mean overt go response rt 542.9531 (sd = 90.6740)\n",
    "mean stop failure rt 458.1956 (sd = 98.0637)\n",
    "difference = -84.7574\n",
    "\n",
    "Number of violators: 355\n",
    "% violators: 4.927%\n",
    "\n",
    "By subject,\n",
    "mean over go choice acc: 90.89%\n",
    "mean stop failure choice acc: 80.48%\n",
    "stop-go confidence 95% interval: (-0.10644632845673829, -0.10171330420948616)\n",
    "\n",
    "W/ switch flags applied:\n",
    "mean over go choice acc: 91.89%\n",
    "mean stop failure choice acc: 81.17%\n",
    "stop-go confidence 95% interval: (-0.10952389103000225, -0.10494349881365193)\n",
    "\n",
    "\n",
    "------------------------------------------\n",
    "\n",
    "Reported results from https://github.com/mckenziephagen/ABCD_Stop_Signal/blob/master/scripts/SST_manuscript/SST_problems.ipynb\n",
    "on a difficult to exactly track down subset of subjects\n",
    "n_subjects = 7231\n",
    "\n",
    "***stop failure is incorrectly calculated below, just used for comparison***\n",
    "\n",
    "By subject,\n",
    "mean overt go response rt 543.6630 (sd = 95.2972)\n",
    "mean stop failure rt 495.0127 (sd = 139.9603)\n",
    "difference = -48.6504\n",
    "\n",
    "* Note the mean go.rt + standard dev. is extremely similar to the first subset of subjects (this along with other simmilar comparisons strongly suggests they did not use the behavioral flag to stop subjects).\n",
    "\n",
    "Number of violators: 1326\n",
    "% violators: 18.338%\n",
    "\n",
    "By subject,\n",
    "mean over go choice acc: n/a\n",
    "mean stop failure choice acc: n/a\n",
    "stop-go confidence 95% interval: (-0.11187416423722574, -0.10639848790163689)"
   ]
  },
  {
   "cell_type": "markdown",
   "metadata": {},
   "source": [
    "## We will now conduct some new/additional analysis comparing 1 vs. 5, or rather now renamed to df1 and df2. \n",
    "\n",
    "#### df1 is the subset of avaliable subjects downloadable from the ABCD reccomended active fast track release, with the subjects Bisset et al. likely missed (those w/ csv event files) included. df2 is now that same subset of subjects, but with the behavioral flag applied."
   ]
  },
  {
   "cell_type": "code",
   "execution_count": 7,
   "metadata": {},
   "outputs": [],
   "source": [
    "# First subset\n",
    "df1 = pd.read_csv('merged_data/1_.csv', low_memory=False)\n",
    "df1 = clean_df(df1, switch=False)\n",
    "\n",
    "# Same subset but w/ behavioral flag applied\n",
    "df2 = pd.read_csv('merged_data/5_.csv', low_memory=False)\n",
    "df2 = clean_df(df2, switch=False)"
   ]
  },
  {
   "cell_type": "markdown",
   "metadata": {},
   "source": [
    "#### We will also create a third df, just called df, that further excludes the bugged ssd subjects, so now we have 3 comparison dfs"
   ]
  },
  {
   "cell_type": "code",
   "execution_count": 8,
   "metadata": {},
   "outputs": [],
   "source": [
    "## Drop bugged subjects\n",
    "SSD_bug = df2.loc[(df2['SSD.RT'] < 50) & (df2['SSD.RT'] > 0) & (df2['SSDDur'] <=50)]['src_subject_id']\n",
    "to_drop_subjs = SSD_bug.unique()\n",
    "to_drop = df2[df2.src_subject_id.isin(to_drop_subjs)].index\n",
    "\n",
    "df = df2.drop(to_drop, axis=0)\n",
    "df = switch_df(df)"
   ]
  },
  {
   "cell_type": "code",
   "execution_count": null,
   "metadata": {},
   "outputs": [],
   "source": []
  },
  {
   "cell_type": "code",
   "execution_count": 9,
   "metadata": {},
   "outputs": [
    {
     "name": "stdout",
     "output_type": "stream",
     "text": [
      "n_subjects = 7115\n",
      "1 0.06889435464980088\n",
      "2 332.08662215975824\n",
      "stop failure rt: 492.50811316114317\n",
      "sdev: 117.60986596231265\n",
      "overt go response mean: 543.846149347633\n",
      "sdev: 90.50057353284646\n",
      "difference beween these: -51.338036186489774\n",
      "3 1105\n",
      "4 0.15530569219957835\n",
      "true stop failure rt: 460.48401059834134\n",
      "true sdev: 95.76969595176892\n",
      "true difference beween these: -83.3621387492916\n",
      "5 355\n",
      "6 0.049894588896697116\n",
      "7 (49.78843555198497, 52.887636820997336)\n",
      "8 (82.0439713258757, 84.68030617270955)\n",
      "9 (-0.10477979697953614, -0.10007876715208129)\n",
      "stop acc 0.8077516838031726\n",
      "go acc 0.9101809658689644\n",
      "10 0.06889435464980088\n",
      "11 29411\n",
      "12 0.0 0\n",
      "13 0.6483069238932785\n",
      "14 0.0\n",
      "15 0.0\n",
      "percent of stop trials 0.0\n",
      "16 0.6483069238932785\n",
      "17 0.0012227687983134223\n",
      "18 40237\n",
      "19 23\n",
      "20 725\n"
     ]
    }
   ],
   "source": [
    "analysis(df)"
   ]
  },
  {
   "cell_type": "markdown",
   "metadata": {},
   "source": [
    "## Issue 1 make plot by SSD duration\n",
    "\n",
    "#### One follow up analysis is to consider the different between overt go rt and failed stop rt as a function of the SSD duration of the trial"
   ]
  },
  {
   "cell_type": "code",
   "execution_count": 10,
   "metadata": {},
   "outputs": [],
   "source": [
    "group = df.groupby('src_subject_id')\n",
    "\n",
    "go_rts_by_subj = group.apply(lambda x: np.mean(x.loc[(x['correct_go_response'] != 'omission') \n",
    "                 & (x['trial_type'] == 'GoTrial')]['go_rt_adjusted']))\n",
    "\n",
    "def get_rt_dif(df):\n",
    "    \n",
    "    by_subj_group = df.groupby('src_subject_id')\n",
    "    \n",
    "    stop_mean_rts = by_subj_group.apply(lambda x: np.mean(x.loc[x['correct_stop'] == 0]['true_stop_rt_adjusted']))\n",
    "    stop_mean_rts = stop_mean_rts.dropna()\n",
    "    \n",
    "    return stop_mean_rts - go_rts_by_subj.loc[stop_mean_rts.index]\n",
    "\n",
    "by_ssd_group = df.groupby('SSDDur')\n",
    "difs = by_ssd_group.apply(get_rt_dif)"
   ]
  },
  {
   "cell_type": "code",
   "execution_count": 11,
   "metadata": {},
   "outputs": [
    {
     "data": {
      "image/png": "[encoded data removed]",
      "text/plain": [
       "<Figure size 864x576 with 1 Axes>"
      ]
     },
     "metadata": {
      "needs_background": "light"
     },
     "output_type": "display_data"
    }
   ],
   "source": [
    "plt.figure(figsize=(12, 8))\n",
    "\n",
    "for x in difs.index.levels[0]:\n",
    "    mu = np.mean(difs.loc[x])\n",
    "    N = len(difs.loc[x])\n",
    "    sigma = np.std(difs.loc[x])\n",
    "    c_int = stats.norm.interval(0.95, loc=mu, scale=sigma/math.sqrt(N))\n",
    "    plt.errorbar(x, mu, yerr=mu - c_int[0], fmt='o', color='black', capsize=3, fillstyle='none')\n",
    "\n",
    "plt.xlabel('SSD Duration (msec)', fontsize=14)\n",
    "plt.ylabel('Stop Fail RT - Overt Go RT (Subject Average)', fontsize=14)\n",
    "plt.title('By SSD Comparison', fontsize=20)\n",
    "plt.xlim(-50, 950)\n",
    "\n",
    "plt.xticks(fontsize=12)\n",
    "plt.yticks(fontsize=12)\n",
    "\n",
    "plt.scatter(-100, 0, color='black', label='Mean', facecolors='none')\n",
    "plt.errorbar(-100, 0, yerr=0, fmt='none', color='black', capsize=3, fillstyle='none', label='95% CI')\n",
    "plt.legend(prop={'size': 14})\n",
    "plt.savefig('plots/By_SSD_Comparison.png', dpi=500)"
   ]
  },
  {
   "cell_type": "markdown",
   "metadata": {},
   "source": [
    "## Issue 2 - more"
   ]
  },
  {
   "cell_type": "code",
   "execution_count": 12,
   "metadata": {},
   "outputs": [],
   "source": [
    "def zero_SSD_count(df):\n",
    "    return len(df.loc[df['SSDDur'] == 0])\n",
    "\n",
    "group1 = df1.groupby('NARGUID')\n",
    "group2 = df2.groupby('NARGUID')\n",
    "\n",
    "zero_cnt1 = group1.apply(lambda x: zero_SSD_count(x))\n",
    "zero_cnt2 = group2.apply(lambda x: zero_SSD_count(x))"
   ]
  },
  {
   "cell_type": "code",
   "execution_count": 13,
   "metadata": {},
   "outputs": [
    {
     "data": {
      "text/plain": [
       "0.493183415319747"
      ]
     },
     "execution_count": 13,
     "metadata": {},
     "output_type": "execute_result"
    }
   ],
   "source": [
    "group = df.groupby('src_subject_id')\n",
    "zero_cnt = group.apply(lambda x: zero_SSD_count(x))\n",
    "sum(zero_cnt > 0) / len(zero_cnt)"
   ]
  },
  {
   "cell_type": "code",
   "execution_count": 14,
   "metadata": {},
   "outputs": [
    {
     "data": {
      "text/plain": [
       "0.39985945186226285"
      ]
     },
     "execution_count": 14,
     "metadata": {},
     "output_type": "execute_result"
    }
   ],
   "source": [
    "def flex_zero_SSD_count(df):\n",
    "    return len(df.loc[(df['SSDDur'] == 0) & (df['StopTrial'] > 5)])\n",
    "\n",
    "zero_cnt = group.apply(lambda x: flex_zero_SSD_count(x))\n",
    "sum(zero_cnt > 0) / len(zero_cnt)"
   ]
  },
  {
   "cell_type": "code",
   "execution_count": null,
   "metadata": {},
   "outputs": [],
   "source": []
  },
  {
   "cell_type": "code",
   "execution_count": 15,
   "metadata": {},
   "outputs": [],
   "source": [
    "with open('clean_over1_zeroSSD.txt', 'w') as f:\n",
    "    for s in zero_cnt[zero_cnt > 0].index:\n",
    "        f.write(s+'\\n')\n",
    "        "
   ]
  },
  {
   "cell_type": "code",
   "execution_count": 16,
   "metadata": {},
   "outputs": [
    {
     "data": {
      "text/plain": [
       "Text(0.5, 0.98, 'Issue 2 - drop behavioral flag comparison (x=0 not shown)')"
      ]
     },
     "execution_count": 16,
     "metadata": {},
     "output_type": "execute_result"
    },
    {
     "data": {
      "image/png": "[encoded data removed]",
      "text/plain": [
       "<Figure size 1440x720 with 2 Axes>"
      ]
     },
     "metadata": {
      "needs_background": "light"
     },
     "output_type": "display_data"
    }
   ],
   "source": [
    "fig, axes = plt.subplots(ncols=2, figsize=(20, 10))\n",
    "axes[0].hist(zero_cnt1[zero_cnt1 != 0], bins=60)\n",
    "axes[0].set_ylabel('num. of subjects')\n",
    "axes[0].set_xlabel('num. of SSD Duration == 0 trials (within subject)')\n",
    "axes[0].set_ylim(0, 800)\n",
    "\n",
    "axes[1].hist(zero_cnt2[zero_cnt2 != 0], bins=60)\n",
    "axes[1].set_ylabel('num. of subjects')\n",
    "axes[1].set_xlabel('num. of SSD Duration == 0 trials (within subject)')\n",
    "axes[1].set_ylim(0, 800)\n",
    "\n",
    "fig.suptitle('Issue 2 - drop behavioral flag comparison (x=0 not shown)')"
   ]
  },
  {
   "cell_type": "code",
   "execution_count": 17,
   "metadata": {},
   "outputs": [
    {
     "data": {
      "image/png": "[encoded data removed]",
      "text/plain": [
       "<Figure size 1440x720 with 2 Axes>"
      ]
     },
     "metadata": {
      "needs_background": "light"
     },
     "output_type": "display_data"
    }
   ],
   "source": [
    "from matplotlib.ticker import PercentFormatter\n",
    "\n",
    "fig, axes = plt.subplots(ncols=2, figsize=(20, 10))\n",
    "axes[0].hist(zero_cnt1[zero_cnt1 != 0], bins=60, weights=np.ones(len(zero_cnt1[zero_cnt1 != 0])) / len(zero_cnt1))\n",
    "axes[0].set_ylabel('% of subjects')\n",
    "axes[0].set_xlabel('num. of SSD Duration == 0 trials (within subject)')\n",
    "axes[0].yaxis.set_major_formatter(PercentFormatter(1))\n",
    "axes[0].set_ylim(0, .1)\n",
    "axes[0].set_title('No flag applied')\n",
    "\n",
    "axes[1].hist(zero_cnt2[zero_cnt2 != 0], bins=60, weights=np.ones(len(zero_cnt2[zero_cnt2 != 0])) / len(zero_cnt2))\n",
    "axes[1].set_ylabel('% of subjects')\n",
    "axes[1].set_xlabel('num. of SSD Duration == 0 trials (within subject)')\n",
    "axes[1].yaxis.set_major_formatter(PercentFormatter(1))\n",
    "axes[1].set_ylim(0, .1)\n",
    "axes[1].set_title('Behavioral flag applied')\n",
    "\n",
    "fig.suptitle('Issue 2 - drop behavioral flag comparison (x=0 not shown)')\n",
    "plt.savefig('plots/Issue2_behavioral_flag_comparison.png', dpi=300)"
   ]
  },
  {
   "cell_type": "code",
   "execution_count": 18,
   "metadata": {},
   "outputs": [
    {
     "data": {
      "text/plain": [
       "0.17751479289940827"
      ]
     },
     "execution_count": 18,
     "metadata": {},
     "output_type": "execute_result"
    }
   ],
   "source": [
    "np.sum(zero_cnt1 > 10) / len(zero_cnt1)"
   ]
  },
  {
   "cell_type": "code",
   "execution_count": 19,
   "metadata": {},
   "outputs": [
    {
     "data": {
      "text/plain": [
       "0.1529705719044975"
      ]
     },
     "execution_count": 19,
     "metadata": {},
     "output_type": "execute_result"
    }
   ],
   "source": [
    "np.sum(zero_cnt2 > 10) / len(zero_cnt2)"
   ]
  },
  {
   "cell_type": "code",
   "execution_count": 20,
   "metadata": {},
   "outputs": [
    {
     "data": {
      "text/plain": [
       "0.515621301775148"
      ]
     },
     "execution_count": 20,
     "metadata": {},
     "output_type": "execute_result"
    }
   ],
   "source": [
    "np.sum(zero_cnt1 > 0) / len(zero_cnt1)"
   ]
  },
  {
   "cell_type": "code",
   "execution_count": 21,
   "metadata": {},
   "outputs": [
    {
     "data": {
      "text/plain": [
       "0.4994447529150472"
      ]
     },
     "execution_count": 21,
     "metadata": {},
     "output_type": "execute_result"
    }
   ],
   "source": [
    "np.sum(zero_cnt2 > 0) / len(zero_cnt2)"
   ]
  },
  {
   "cell_type": "code",
   "execution_count": 22,
   "metadata": {},
   "outputs": [],
   "source": [
    "def get_accs_by_cnt(zero_cnt, df):\n",
    "\n",
    "    accs_by_cnt = [0 for _ in range(np.max(zero_cnt.unique()) + 1)]\n",
    "\n",
    "    for val in zero_cnt.unique():\n",
    "        if val != 0:\n",
    "            val_subjs = zero_cnt[zero_cnt == val].index\n",
    "            acc = zero_SSD_acc(df[df['NARGUID'].isin(val_subjs)])\n",
    "            accs_by_cnt[val] = acc\n",
    "            \n",
    "    return accs_by_cnt\n",
    "\n",
    "accs_by_cnt1 = get_accs_by_cnt(zero_cnt1, df1)\n",
    "accs_by_cnt2 = get_accs_by_cnt(zero_cnt2, df2)"
   ]
  },
  {
   "cell_type": "code",
   "execution_count": 23,
   "metadata": {},
   "outputs": [
    {
     "data": {
      "image/png": "[encoded data removed]",
      "text/plain": [
       "<Figure size 432x288 with 1 Axes>"
      ]
     },
     "metadata": {
      "needs_background": "light"
     },
     "output_type": "display_data"
    }
   ],
   "source": [
    "plt.plot(accs_by_cnt1[1:], label='No flag')\n",
    "plt.plot(accs_by_cnt2[1:], label='Behavioral flag')\n",
    "plt.title('0 SSD accuracy by number of trials per subject')\n",
    "plt.ylabel('accuracy')\n",
    "plt.xlabel('num. of SSD Duration == 0 trials')\n",
    "plt.legend()\n",
    "plt.savefig('plots/SSD_acc_by_subj_counts.png')"
   ]
  },
  {
   "cell_type": "code",
   "execution_count": 24,
   "metadata": {},
   "outputs": [],
   "source": [
    "def get_first_trial(in_df):\n",
    "    return in_df['StopTrial'].values[0]\n",
    "\n",
    "bug1 = df1.loc[(df1['SSD.RT'] < 50) & (df1['SSD.RT'] > 0) &\n",
    "               (df1['SSDDur'] <= 50)]\n",
    "bug1_subjects = bug1['src_subject_id'].unique()\n",
    "\n",
    "bug2 = df2.loc[(df2['SSD.RT'] < 50) & (df2['SSD.RT'] > 0) &\n",
    "               (df2['SSDDur'] <= 50)]\n",
    "bug2_subjects = bug2['src_subject_id'].unique()\n",
    "\n",
    "groups1 = bug1.groupby('src_subject_id')\n",
    "groups2 = bug2.groupby('src_subject_id')\n",
    "\n",
    "p_start1 = groups1.apply(get_first_trial)\n",
    "p_start2 = groups2.apply(get_first_trial)"
   ]
  },
  {
   "cell_type": "code",
   "execution_count": 25,
   "metadata": {},
   "outputs": [],
   "source": [
    "import seaborn as sns"
   ]
  },
  {
   "cell_type": "code",
   "execution_count": 26,
   "metadata": {},
   "outputs": [
    {
     "data": {
      "image/png": "[encoded data removed]",
      "text/plain": [
       "<Figure size 720x576 with 1 Axes>"
      ]
     },
     "metadata": {
      "needs_background": "light"
     },
     "output_type": "display_data"
    }
   ],
   "source": [
    "plt.figure(figsize=(10, 8))\n",
    "plt.title('Issue 3 stop trial where error starts - comparison')\n",
    "plt.hist(p_start1, bins=30, alpha=.7, label='No flags')\n",
    "plt.hist(p_start2, bins=30, alpha=.7, label='Behavioral flag applied')\n",
    "plt.xlabel('Stop trial # where error starts')\n",
    "plt.ylabel('Number of subjects')\n",
    "plt.legend()\n",
    "plt.savefig('plots/Issue3_comparison.png', dpi=300)"
   ]
  },
  {
   "cell_type": "code",
   "execution_count": 27,
   "metadata": {},
   "outputs": [
    {
     "data": {
      "image/png": "[encoded data removed]",
      "text/plain": [
       "<Figure size 720x576 with 1 Axes>"
      ]
     },
     "metadata": {
      "needs_background": "light"
     },
     "output_type": "display_data"
    }
   ],
   "source": [
    "plt.figure(figsize=(10, 8))\n",
    "plt.title('Issue 3 stop trial where error starts')\n",
    "plt.hist(p_start2, bins=40, color='orange')\n",
    "plt.xlabel('Stop trial # where error starts')\n",
    "plt.ylabel('Number of subjects')\n",
    "plt.xlim(0, 60)\n",
    "\n",
    "plt.savefig('plots/Issue3_just_flag.png', dpi=300)"
   ]
  },
  {
   "cell_type": "code",
   "execution_count": 28,
   "metadata": {},
   "outputs": [
    {
     "data": {
      "text/plain": [
       "0.02165680473372781"
      ]
     },
     "execution_count": 28,
     "metadata": {},
     "output_type": "execute_result"
    }
   ],
   "source": [
    "np.sum(p_start1 < 50) / len(zero_cnt1)"
   ]
  },
  {
   "cell_type": "code",
   "execution_count": 29,
   "metadata": {},
   "outputs": [
    {
     "data": {
      "text/plain": [
       "0.008189894503053859"
      ]
     },
     "execution_count": 29,
     "metadata": {},
     "output_type": "execute_result"
    }
   ],
   "source": [
    "np.sum(p_start2 < 50) / len(zero_cnt2)"
   ]
  },
  {
   "cell_type": "markdown",
   "metadata": {},
   "source": [
    "Issue 3\n",
    "---------\n",
    "\n",
    "No Flags (n_subjects = 8451):\n",
    "2.674% of subjects\n",
    "0.208% of all trials\n",
    "1.248% of stop trials\n",
    "\n",
    "Behavioral flag applied (n_subjects = 7204):\n",
    "1.235% of subjects\n",
    "0.560% of all trials\n",
    "0.336% of stop trials\n",
    "\n",
    "Their reported results (n_subjects = 7231):\n",
    "2.724% of subjects\n",
    "0.211% of all trials"
   ]
  },
  {
   "cell_type": "code",
   "execution_count": 30,
   "metadata": {},
   "outputs": [],
   "source": [
    "percent_saveable1 = []\n",
    "percent_saveable2 = []\n",
    "for x in range(20):\n",
    "    percent_saveable1.append(np.sum(p_start1 > 59-x) / len(bug1_subjects))\n",
    "    percent_saveable2.append(np.sum(p_start2 > 59-x) / len(bug2_subjects))"
   ]
  },
  {
   "cell_type": "code",
   "execution_count": 31,
   "metadata": {},
   "outputs": [
    {
     "data": {
      "image/png": "[encoded data removed]",
      "text/plain": [
       "<Figure size 720x576 with 1 Axes>"
      ]
     },
     "metadata": {
      "needs_background": "light"
     },
     "output_type": "display_data"
    }
   ],
   "source": [
    "plt.figure(figsize=(10, 8))\n",
    "\n",
    "plt.scatter([60-x for x in range(0, 20)], percent_saveable1, label='No flags')\n",
    "plt.plot([60-x for x in range(0, 20)], percent_saveable1)\n",
    "\n",
    "plt.scatter([60-x for x in range(0, 20)], percent_saveable2, label='Behavioral flag applied')\n",
    "plt.plot([60-x for x in range(0, 20)], percent_saveable2)\n",
    "\n",
    "plt.gca().yaxis.set_major_formatter(PercentFormatter(1))\n",
    "plt.xticks([60, 58, 56, 54, 52, 50, 48, 46, 44, 42, 40])\n",
    "plt.xlabel('Stop trial # where issue 3 error starts')\n",
    "plt.ylabel('Percentage recoverable')\n",
    "plt.title('% of Issue 3 subjects recoverable by cut-off point')\n",
    "plt.legend()\n",
    "\n",
    "plt.savefig('plots/Issue3_percent_recoverable.png', dpi=300)"
   ]
  },
  {
   "cell_type": "code",
   "execution_count": 32,
   "metadata": {},
   "outputs": [
    {
     "data": {
      "text/plain": [
       "5"
      ]
     },
     "execution_count": 32,
     "metadata": {},
     "output_type": "execute_result"
    }
   ],
   "source": [
    "np.sum(p_start1 > 59) "
   ]
  },
  {
   "cell_type": "code",
   "execution_count": 33,
   "metadata": {},
   "outputs": [
    {
     "data": {
      "text/plain": [
       "226"
      ]
     },
     "execution_count": 33,
     "metadata": {},
     "output_type": "execute_result"
    }
   ],
   "source": [
    "len(p_start1)"
   ]
  },
  {
   "cell_type": "code",
   "execution_count": 34,
   "metadata": {},
   "outputs": [
    {
     "data": {
      "text/plain": [
       "0.022123893805309734"
      ]
     },
     "execution_count": 34,
     "metadata": {},
     "output_type": "execute_result"
    }
   ],
   "source": [
    "np.sum(p_start1 > 59) / len(p_start1)"
   ]
  },
  {
   "cell_type": "markdown",
   "metadata": {},
   "source": [
    "Issue 4"
   ]
  },
  {
   "cell_type": "code",
   "execution_count": 35,
   "metadata": {},
   "outputs": [
    {
     "data": {
      "text/plain": [
       "0.011508265277942163"
      ]
     },
     "execution_count": 35,
     "metadata": {},
     "output_type": "execute_result"
    }
   ],
   "source": [
    "len(df1.loc[df1['SSDDur'] > 700]) / len(df1.loc[df1['trial_type'] =='StopTrial'])"
   ]
  },
  {
   "cell_type": "code",
   "execution_count": 36,
   "metadata": {},
   "outputs": [
    {
     "data": {
      "text/plain": [
       "0.0012076624097723486"
      ]
     },
     "execution_count": 36,
     "metadata": {},
     "output_type": "execute_result"
    }
   ],
   "source": [
    "len(df2.loc[df2['SSDDur'] > 700]) / len(df2.loc[df2['trial_type'] =='StopTrial'])"
   ]
  },
  {
   "cell_type": "code",
   "execution_count": 37,
   "metadata": {},
   "outputs": [
    {
     "data": {
      "text/plain": [
       "408"
      ]
     },
     "execution_count": 37,
     "metadata": {},
     "output_type": "execute_result"
    }
   ],
   "source": [
    "n_subjects1 = len(df1.loc[df1['SSDDur'] > 700].src_subject_id.unique())\n",
    "n_subjects1"
   ]
  },
  {
   "cell_type": "code",
   "execution_count": 38,
   "metadata": {},
   "outputs": [
    {
     "data": {
      "text/plain": [
       "0.048284023668639056"
      ]
     },
     "execution_count": 38,
     "metadata": {},
     "output_type": "execute_result"
    }
   ],
   "source": [
    "n_subjects1 / len(df1.src_subject_id.unique())"
   ]
  },
  {
   "cell_type": "code",
   "execution_count": 39,
   "metadata": {},
   "outputs": [
    {
     "data": {
      "text/plain": [
       "128"
      ]
     },
     "execution_count": 39,
     "metadata": {},
     "output_type": "execute_result"
    }
   ],
   "source": [
    "n_subjects2 = len(df2.loc[df2['SSDDur'] > 700].src_subject_id.unique())\n",
    "n_subjects2"
   ]
  },
  {
   "cell_type": "code",
   "execution_count": 40,
   "metadata": {},
   "outputs": [
    {
     "data": {
      "text/plain": [
       "0.01776790671848973"
      ]
     },
     "execution_count": 40,
     "metadata": {},
     "output_type": "execute_result"
    }
   ],
   "source": [
    "n_subjects2/ len(df2.src_subject_id.unique())"
   ]
  },
  {
   "cell_type": "markdown",
   "metadata": {},
   "source": [
    "We know it goes from 1.15% of stop trial effected to 0.12% of Stop trials effected by applying the behavioral performance flag. \n",
    "\n",
    "We also wanted to look at the # of subjects this effects (atleast once)\n",
    "Which is 4.83% (408 subjects) w/ no flags applied and 1.78% (128 subjects) with behavioral flags applied"
   ]
  },
  {
   "cell_type": "code",
   "execution_count": 41,
   "metadata": {},
   "outputs": [],
   "source": [
    "def issue4_cnt(df):\n",
    "    return len(df.loc[df['SSDDur'] > 700])\n",
    "\n",
    "group1 = df1.groupby('NARGUID')\n",
    "group2 = df2.groupby('NARGUID')\n",
    "\n",
    "long_cnt1 = group1.apply(lambda x: issue4_cnt(x))\n",
    "long_cnt2 = group2.apply(lambda x: issue4_cnt(x))"
   ]
  },
  {
   "cell_type": "code",
   "execution_count": 42,
   "metadata": {},
   "outputs": [
    {
     "data": {
      "image/png": "[encoded data removed]",
      "text/plain": [
       "<Figure size 1440x720 with 2 Axes>"
      ]
     },
     "metadata": {
      "needs_background": "light"
     },
     "output_type": "display_data"
    }
   ],
   "source": [
    "from matplotlib.ticker import PercentFormatter\n",
    "\n",
    "fig, axes = plt.subplots(ncols=2, figsize=(20, 10))\n",
    "axes[0].hist(long_cnt1[long_cnt1 != 0], bins=30, weights=np.ones(len(long_cnt1[long_cnt1 != 0])) / len(long_cnt1))\n",
    "axes[0].set_ylabel('% of subjects')\n",
    "axes[0].set_xlabel('num. of SSD Duration > 700 (within subject)')\n",
    "axes[0].yaxis.set_major_formatter(PercentFormatter(1))\n",
    "axes[0].set_ylim(0, .01)\n",
    "axes[0].set_title('No flag applied')\n",
    "\n",
    "axes[1].hist(long_cnt2[long_cnt2 != 0], bins=30, weights=np.ones(len(long_cnt2[long_cnt2 != 0])) / len(long_cnt2))\n",
    "axes[1].set_ylabel('% of subjects')\n",
    "axes[1].set_xlabel('num. of SSD Duration > 700 (within subject)')\n",
    "axes[1].yaxis.set_major_formatter(PercentFormatter(1))\n",
    "axes[1].set_ylim(0, .01)\n",
    "axes[1].set_title('Behavioral flag applied')\n",
    "\n",
    "fig.suptitle('Issue 4 - drop behavioral flag comparison (x=0 not shown)')\n",
    "plt.savefig('plots/Issue4_behavioral_flag_comparison.png', dpi=300)"
   ]
  },
  {
   "cell_type": "code",
   "execution_count": 43,
   "metadata": {},
   "outputs": [
    {
     "data": {
      "image/png": "[encoded data removed]",
      "text/plain": [
       "<Figure size 720x576 with 1 Axes>"
      ]
     },
     "metadata": {
      "needs_background": "light"
     },
     "output_type": "display_data"
    }
   ],
   "source": [
    "plt.figure(figsize=(10, 8))\n",
    "\n",
    "plt.title('Issue 4 - drop behavioral flag comparison (x=0 not shown)')\n",
    "\n",
    "plt.hist(long_cnt1[long_cnt1 != 0],\n",
    "         bins=30,\n",
    "         weights=np.ones(len(long_cnt1[long_cnt1 != 0])) / len(long_cnt1),\n",
    "         label='No flag applied', alpha=.7)\n",
    "\n",
    "plt.hist(long_cnt2[long_cnt2 != 0],\n",
    "         bins=30,\n",
    "         weights=np.ones(len(long_cnt2[long_cnt2 != 0])) / len(long_cnt2),\n",
    "         label='Behavioral flag applied', alpha=.7)\n",
    "\n",
    "plt.legend()\n",
    "plt.ylabel('Percentage of subjects')\n",
    "plt.xlabel('# of SSD Duration > 700 (within subject)')\n",
    "\n",
    "plt.gca().yaxis.set_major_formatter(PercentFormatter(1))\n",
    "plt.savefig('plots/issue4_behavioral_comparison.png', dpi=300)"
   ]
  },
  {
   "cell_type": "code",
   "execution_count": 44,
   "metadata": {},
   "outputs": [
    {
     "data": {
      "image/png": "[encoded data removed]",
      "text/plain": [
       "<Figure size 720x576 with 1 Axes>"
      ]
     },
     "metadata": {
      "needs_background": "light"
     },
     "output_type": "display_data"
    }
   ],
   "source": [
    "plt.figure(figsize=(10, 8))\n",
    "\n",
    "plt.title('Issue 4 - drop behavioral flag comparison (x=0 not shown)')\n",
    "\n",
    "\n",
    "plt.hist(long_cnt2[long_cnt2 != 0],\n",
    "         bins=30,\n",
    "         weights=np.ones(len(long_cnt2[long_cnt2 != 0])) / len(long_cnt2),\n",
    "         alpha=1, color='orange')\n",
    "\n",
    "plt.ylabel('Percentage of subjects')\n",
    "plt.xlabel('# of SSD Duration > 700 (within subject)')\n",
    "\n",
    "plt.gca().yaxis.set_major_formatter(PercentFormatter(1))\n",
    "plt.savefig('plots/issue4_behavioral_just_flag.png', dpi=300)"
   ]
  },
  {
   "cell_type": "code",
   "execution_count": 45,
   "metadata": {},
   "outputs": [
    {
     "data": {
      "text/plain": [
       "0.022603550295857987"
      ]
     },
     "execution_count": 45,
     "metadata": {},
     "output_type": "execute_result"
    }
   ],
   "source": [
    "np.sum(long_cnt1 > 10) / len(long_cnt1)"
   ]
  },
  {
   "cell_type": "code",
   "execution_count": 46,
   "metadata": {},
   "outputs": [
    {
     "data": {
      "text/plain": [
       "0.00138811771238201"
      ]
     },
     "execution_count": 46,
     "metadata": {},
     "output_type": "execute_result"
    }
   ],
   "source": [
    "np.sum(long_cnt2 > 10) / len(long_cnt2)"
   ]
  },
  {
   "cell_type": "code",
   "execution_count": 47,
   "metadata": {},
   "outputs": [
    {
     "name": "stdout",
     "output_type": "stream",
     "text": [
      "num long ssd trials on all subjects =  5834 ( 0.011508265277942163 )\n",
      "after behav flag =  522 ( 0.0012076624097723486 )\n",
      "num w/ SSD resp = 212\n",
      "final # of stop trials w/ shorter stop signal displayed 310 ( 0.0007171941513973718 )\n"
     ]
    }
   ],
   "source": [
    "long_ssd = df1.loc[df1['SSDDur'] > 700]\n",
    "perc_long = len(long_ssd) / np.sum(df1.trial_type == 'StopTrial')\n",
    "print('num long ssd trials on all subjects = ', len(long_ssd), '(', perc_long, ')')\n",
    "\n",
    "long_ssd = df2.loc[df2['SSDDur'] > 700]\n",
    "perc_long = len(long_ssd) / np.sum(df2.trial_type == 'StopTrial')\n",
    "print('after behav flag = ', len(long_ssd), '(', perc_long, ')')\n",
    "\n",
    "num_w_resp = np.sum(~long_ssd['SSD.RESP'].isnull())\n",
    "print('num w/ SSD resp =', num_w_resp)\n",
    "\n",
    "new_n = len(long_ssd) - num_w_resp\n",
    "new_perc = new_n / np.sum(df2.trial_type == 'StopTrial')\n",
    "print('final # of stop trials w/ shorter stop signal displayed', new_n, '(', new_perc, ')')"
   ]
  },
  {
   "cell_type": "markdown",
   "metadata": {},
   "source": [
    "## SSRT calculation\n",
    "\n",
    "-we should exclude all glitch Ss (1.24%)\n",
    "\n",
    "-Best practices paper says that SSRT should not be estimated for violators so they should be excluded too from any SSRT analyses we do.\n",
    "\n",
    "-And we should exclude our performance flagged S"
   ]
  },
  {
   "cell_type": "code",
   "execution_count": 48,
   "metadata": {},
   "outputs": [],
   "source": [
    "def one_sided_check(x):\n",
    "    \n",
    "    go_rts = x.loc[(x['correct_go_response'] != 'omission') &\n",
    "                   (x['trial_type'] == 'GoTrial')]['go_rt_adjusted']\n",
    "    stop_rts = x.loc[x['correct_stop'] == 0]['true_stop_rt_adjusted']\n",
    "    \n",
    "    t_test_results = ttest_ind(go_rts, stop_rts, equal_var=True)\n",
    "    \n",
    "    t = t_test_results[0]\n",
    "    p = t_test_results[1]\n",
    "    \n",
    "    if t < 0 and ((p/2) < .05):\n",
    "        return False\n",
    "    else:\n",
    "        return True\n",
    "    \n",
    "def get_sig_vio(group):\n",
    "    sig = group.apply(one_sided_check)\n",
    "    return sig[~sig].index"
   ]
  },
  {
   "cell_type": "code",
   "execution_count": 49,
   "metadata": {},
   "outputs": [],
   "source": [
    "## Drop bugged subjects\n",
    "SSD_bug = df2.loc[(df2['SSD.RT'] < 50) & (df2['SSD.RT'] > 0) & (df2['SSDDur'] <=50)]['src_subject_id']\n",
    "to_drop_subjs = SSD_bug.unique()\n",
    "to_drop = df2[df2.src_subject_id.isin(to_drop_subjs)].index\n",
    "\n",
    "df = df2.drop(to_drop, axis=0)"
   ]
  },
  {
   "cell_type": "code",
   "execution_count": 50,
   "metadata": {},
   "outputs": [],
   "source": [
    "# Get go and stop rt\n",
    "group = df.groupby('src_subject_id')\n",
    "\n",
    "go_rt = group.apply(lambda x: np.nanmean(x.loc[(x['correct_go_response'] != 'omission') &\n",
    "                                        (x['trial_type'] == 'GoTrial')]['go_rt_adjusted']))\n",
    "stop_rt = group.apply(lambda x: np.mean(x.loc[x['correct_stop'] == 0]['true_stop_rt_adjusted']))"
   ]
  },
  {
   "cell_type": "code",
   "execution_count": 51,
   "metadata": {},
   "outputs": [
    {
     "data": {
      "text/plain": [
       "Ttest_indResult(statistic=53.36094911894546, pvalue=0.0)"
      ]
     },
     "execution_count": 51,
     "metadata": {},
     "output_type": "execute_result"
    }
   ],
   "source": [
    "stats.ttest_ind(np.array(go_rt), np.array(stop_rt), equal_var=False)"
   ]
  },
  {
   "cell_type": "code",
   "execution_count": 52,
   "metadata": {},
   "outputs": [
    {
     "data": {
      "text/plain": [
       "355"
      ]
     },
     "execution_count": 52,
     "metadata": {},
     "output_type": "execute_result"
    }
   ],
   "source": [
    "# Calc violators\n",
    "vio = stop_rt[stop_rt > go_rt].index\n",
    "len(vio)"
   ]
  },
  {
   "cell_type": "code",
   "execution_count": 53,
   "metadata": {},
   "outputs": [
    {
     "data": {
      "text/plain": [
       "115"
      ]
     },
     "execution_count": 53,
     "metadata": {},
     "output_type": "execute_result"
    }
   ],
   "source": [
    "# Calc sig signifigant violators\n",
    "sig_vio = get_sig_vio(group)\n",
    "len(sig_vio)"
   ]
  },
  {
   "cell_type": "code",
   "execution_count": 54,
   "metadata": {},
   "outputs": [],
   "source": [
    "test_df = df1[df1.src_subject_id == 'NDAR_INV1YFEDW44']"
   ]
  },
  {
   "cell_type": "code",
   "execution_count": 55,
   "metadata": {},
   "outputs": [
    {
     "data": {
      "text/plain": [
       "60"
      ]
     },
     "execution_count": 55,
     "metadata": {},
     "output_type": "execute_result"
    }
   ],
   "source": [
    "np.sum(~test_df['true_stop_rt_adjusted'].isnull())"
   ]
  },
  {
   "cell_type": "code",
   "execution_count": 56,
   "metadata": {},
   "outputs": [],
   "source": [
    "with open('clean_subj_subset.txt', 'w') as f:\n",
    "    for subj in df.src_subject_id.unique():\n",
    "        f.write(subj+'\\n')\n",
    "\n",
    "with open('clean_subj_vio.txt', 'w') as f:\n",
    "    for subj in vio:\n",
    "        f.write(subj+'\\n')\n",
    "        \n",
    "with open('clean_subj_sig_vio.txt', 'w') as f:\n",
    "    for subj in sig_vio:\n",
    "        f.write(subj+'\\n')"
   ]
  },
  {
   "cell_type": "code",
   "execution_count": 57,
   "metadata": {},
   "outputs": [
    {
     "data": {
      "text/plain": [
       "6760"
      ]
     },
     "execution_count": 57,
     "metadata": {},
     "output_type": "execute_result"
    }
   ],
   "source": [
    "to_drop = df[df.src_subject_id.isin(vio)].index\n",
    "df_v = df.drop(to_drop, axis=0)\n",
    "len(df_v.src_subject_id.unique())"
   ]
  },
  {
   "cell_type": "code",
   "execution_count": 58,
   "metadata": {},
   "outputs": [
    {
     "data": {
      "text/plain": [
       "7000"
      ]
     },
     "execution_count": 58,
     "metadata": {},
     "output_type": "execute_result"
    }
   ],
   "source": [
    "to_drop = df[df.src_subject_id.isin(sig_vio)].index\n",
    "df_sv = df.drop(to_drop, axis=0)\n",
    "len(df_sv.src_subject_id.unique())"
   ]
  },
  {
   "cell_type": "code",
   "execution_count": 91,
   "metadata": {},
   "outputs": [],
   "source": [
    "def get_dif_ssrt(s_df, last_only=False, exclude_long=False,\n",
    "                 exclude_bug=False, exclude_ssd0=False, exclude_first_gos=False):\n",
    "    \n",
    "    # Set omissions to max go.rt\n",
    "    go_trials = s_df.query('trial_type == \"GoTrial\"')\n",
    "    \n",
    "    if exclude_first_gos:\n",
    "        go_trials = go_trials.iloc[60:]\n",
    "\n",
    "    go_trials[go_trials['correct_go_response']==\"omission\"] = go_trials.go_rt_adjusted.max()\n",
    "    sorted_go = go_trials.go_rt_adjusted.sort_values(ascending=True)\n",
    "    \n",
    "    # Get stop trials + prob stop failure\n",
    "    stop_trials = s_df.query('trial_type == \"StopTrial\"')\n",
    "    \n",
    "    if last_only:\n",
    "        stop_trials = stop_trials.query('StopTrial > 10')\n",
    "        if (len(stop_trials) != 50):\n",
    "            print(s_df.NARGUID.iloc[0], s_df.src_subject_id.iloc[0])\n",
    "            \n",
    "    if exclude_long:\n",
    "        stop_trials = stop_trials.query('SSDDur <= 700')\n",
    "        \n",
    "    if exclude_ssd0:\n",
    "        stop_trials = stop_trials.query('SSDDur != 0')\n",
    "        \n",
    "    prob_stop_failure = (1-stop_trials.correct_stop.mean())\n",
    "    \n",
    "    # Calc go.rt index\n",
    "    index = prob_stop_failure * len(sorted_go)\n",
    "    \n",
    "    # If prob_stop_failure is 1, use the max go.rt\n",
    "    if np.ceil(index) == len(sorted_go):\n",
    "        index = len(sorted_go)-1\n",
    "    else:\n",
    "        index = [np.floor(index), np.ceil(index)]\n",
    "    \n",
    "    # Calc SSRT\n",
    "    mean_ssd = np.mean(stop_trials['SSDDur'])\n",
    "    \n",
    "    try:\n",
    "        ssrt = sorted_go.iloc[index].mean() - mean_ssd\n",
    "    except IndexError:\n",
    "        print(s_df.NARGUID.iloc[0], s_df.src_subject_id.iloc[0])\n",
    "        print('index = ', index)\n",
    "        print('len sorted go =', len(sorted_go))\n",
    "        print('prob stop fail =', prob_stop_failure)\n",
    "        ssrt = np.NaN\n",
    "\n",
    "    return ssrt\n",
    "        \n",
    "def get_ssrt(s_df):\n",
    "    return get_dif_ssrt(s_df)\n",
    "\n",
    "def get_ssrt_last50(s_df):\n",
    "    return get_dif_ssrt(s_df, last_only=True)\n",
    "\n",
    "def get_ssrt_issue(s_df):\n",
    "    return get_dif_ssrt(s_df, last_only=True, exclude_first_gos=True)\n",
    "\n",
    "def get_ssrt_exclude_ssd0(s_df):\n",
    "    return get_dif_ssrt(s_df, exclude_ssd0=True)\n",
    "\n",
    "def get_ssrt_exclude_long(s_df):\n",
    "    return get_dif_ssrt(s_df, exclude_long=True)\n",
    "\n",
    "def get_no_vio_df(df):\n",
    "    \n",
    "    group = df.groupby('src_subject_id')\n",
    "\n",
    "    go_rt = group.apply(lambda x: np.nanmean(x.loc[(x['correct_go_response'] != 'omission') &\n",
    "                                            (x['trial_type'] == 'GoTrial')]['go_rt_adjusted']))\n",
    "    stop_rt = group.apply(lambda x: np.mean(x.loc[x['correct_stop'] == 0]['true_stop_rt_adjusted']))\n",
    "\n",
    "    vio = stop_rt[stop_rt > go_rt].index\n",
    "\n",
    "    to_drop = df[df.src_subject_id.isin(vio)].index\n",
    "    df_no_v = df.drop(to_drop, axis=0)\n",
    "\n",
    "    return df_no_v\n",
    "\n",
    "\n",
    "def prep(s_df):\n",
    "\n",
    "    go_trials = s_df.query('trial_type == \"GoTrial\"')\n",
    "    go_trials[go_trials['correct_go_response']==\"omission\"] = go_trials.go_rt_adjusted.max()\n",
    "    sorted_go = go_trials.go_rt_adjusted.sort_values(ascending=True)\n",
    "    sorted_go = np.array(sorted_go)\n",
    "\n",
    "    stop_trials = s_df.query('trial_type == \"StopTrial\"')\n",
    "    stops = np.array(stop_trials[['correct_stop', 'SSDDur', 'StopTrial', 'SSD.RT']])\n",
    "        \n",
    "    return sorted_go, stops\n",
    "\n",
    "def unpack(prep):\n",
    "    \n",
    "    sorted_gos = []\n",
    "    stops = []\n",
    "    for i in prep.index:\n",
    "        sorted_gos.append(prep.loc[i][0])\n",
    "        stops.append((prep.loc[i][1]))\n",
    "\n",
    "    sorted_gos = np.array(sorted_gos)\n",
    "    stops = np.array(stops)\n",
    "\n",
    "    return sorted_gos, stops\n",
    "\n",
    "def fast_calc(sorted_gos, stops, remove_rand=0, last_only=False,\n",
    "              last_only_alt=False, exclude_long=False,\n",
    "              exclude_bug=False, exclude_ssd0=False):\n",
    "    \n",
    "    gos = sorted_gos.copy()\n",
    "    \n",
    "    correct_stop = stops[:,:,0].copy()\n",
    "    ssd_dur = stops[:,:,1].copy()\n",
    "    stop_trial = stops[:,:,2].copy()\n",
    "    \n",
    "    if last_only:\n",
    "        lo = np.where(stop_trial <= 10)\n",
    "        correct_stop[lo] = np.nan\n",
    "        ssd_dur[lo] = np.nan\n",
    "        \n",
    "    if last_only_alt:\n",
    "        lo = np.where(stop_trial <= 7)\n",
    "        correct_stop[lo] = np.nan\n",
    "        ssd_dur[lo] = np.nan\n",
    "        \n",
    "    if exclude_long:\n",
    "        long = np.where(ssd_dur > 700)\n",
    "        correct_stop[long] = np.nan\n",
    "        ssd_dur[long] = np.nan\n",
    "\n",
    "    if exclude_ssd0:\n",
    "        ssd0 = np.where(ssd_dur == 0)\n",
    "        correct_stop[ssd0] = np.nan\n",
    "        ssd_dur[ssd0] = np.nan\n",
    "    \n",
    "    # By taking the nanmean, ignores all stops that have been set to NaN\n",
    "    prob_stop_failure = 1 - np.nanmean(correct_stop, axis=1)\n",
    "    \n",
    "    index = prob_stop_failure * gos.shape[1]\n",
    "    \n",
    "    # If index @ max, have to decrement, but will still\n",
    "    # take max value\n",
    "    index[np.where(index == gos.shape[1])] -= 1\n",
    "    \n",
    "    f_index = np.floor(index).astype(int)\n",
    "    c_index = np.ceil(index).astype(int)\n",
    "    \n",
    "    # Same as before, take nanmean\n",
    "    mean_ssd = np.nanmean(ssd_dur, axis=1)\n",
    "    \n",
    "    f = gos[(np.arange(0, len(f_index)), f_index)]\n",
    "    c = gos[(np.arange(0, len(c_index)), c_index)]\n",
    "\n",
    "    go_loc = np.mean([f,c], axis=0)\n",
    "    ssrts = go_loc - mean_ssd\n",
    "    return ssrts"
   ]
  },
  {
   "cell_type": "markdown",
   "metadata": {},
   "source": [
    "Want to start by confirming that both methods to calc ssrt work the same - then we can use the fast one"
   ]
  },
  {
   "cell_type": "code",
   "execution_count": 60,
   "metadata": {},
   "outputs": [],
   "source": [
    "group_v = df_v.groupby('src_subject_id')\n",
    "group_sv = df_sv.groupby('src_subject_id')\n",
    "\n",
    "p1 = group_v.apply(prep)\n",
    "sorted_gos_v, stops_v = unpack(p1)"
   ]
  },
  {
   "cell_type": "code",
   "execution_count": 61,
   "metadata": {},
   "outputs": [
    {
     "data": {
      "text/plain": [
       "(282.6311390532549, 282.63113905325446)"
      ]
     },
     "execution_count": 61,
     "metadata": {},
     "output_type": "execute_result"
    }
   ],
   "source": [
    "np.mean(group_v.apply(get_ssrt)), np.mean(fast_calc(sorted_gos_v, stops_v))"
   ]
  },
  {
   "cell_type": "code",
   "execution_count": 62,
   "metadata": {},
   "outputs": [
    {
     "data": {
      "text/plain": [
       "(277.30939349112424, 277.30939349112424)"
      ]
     },
     "execution_count": 62,
     "metadata": {},
     "output_type": "execute_result"
    }
   ],
   "source": [
    "np.mean(group_v.apply(get_ssrt_last50)), np.mean(fast_calc(sorted_gos_v, stops_v, last_only=True))"
   ]
  },
  {
   "cell_type": "code",
   "execution_count": 63,
   "metadata": {},
   "outputs": [
    {
     "data": {
      "text/plain": [
       "(282.83657322158535, 282.8365732215849)"
      ]
     },
     "execution_count": 63,
     "metadata": {},
     "output_type": "execute_result"
    }
   ],
   "source": [
    "np.mean(group_v.apply(get_ssrt_exclude_long)), np.mean(fast_calc(sorted_gos_v, stops_v, exclude_long=True))"
   ]
  },
  {
   "cell_type": "code",
   "execution_count": 64,
   "metadata": {},
   "outputs": [
    {
     "data": {
      "text/plain": [
       "(275.9980898209979, 275.9980898209973)"
      ]
     },
     "execution_count": 64,
     "metadata": {},
     "output_type": "execute_result"
    }
   ],
   "source": [
    "np.mean(group_v.apply(get_ssrt_exclude_ssd0)), np.mean(fast_calc(sorted_gos_v, stops_v, exclude_ssd0=True))"
   ]
  },
  {
   "cell_type": "markdown",
   "metadata": {},
   "source": []
  },
  {
   "cell_type": "code",
   "execution_count": 65,
   "metadata": {},
   "outputs": [
    {
     "data": {
      "text/plain": [
       "544.4223896400448"
      ]
     },
     "execution_count": 65,
     "metadata": {},
     "output_type": "execute_result"
    }
   ],
   "source": [
    "np.mean(go_rt.loc[p1.index])"
   ]
  },
  {
   "cell_type": "code",
   "execution_count": 66,
   "metadata": {},
   "outputs": [
    {
     "data": {
      "text/plain": [
       "(282.63113905325446, 77.96260508644481)"
      ]
     },
     "execution_count": 66,
     "metadata": {},
     "output_type": "execute_result"
    }
   ],
   "source": [
    "base_ssrt_v = fast_calc(sorted_gos_v, stops_v)\n",
    "np.mean(base_ssrt_v), np.std(base_ssrt_v)"
   ]
  },
  {
   "cell_type": "code",
   "execution_count": 67,
   "metadata": {},
   "outputs": [
    {
     "data": {
      "image/png": "[encoded data removed]",
      "text/plain": [
       "<Figure size 432x288 with 1 Axes>"
      ]
     },
     "metadata": {
      "needs_background": "light"
     },
     "output_type": "display_data"
    }
   ],
   "source": [
    "plt.title('SSRT Distribution')\n",
    "sns.distplot(base_ssrt_v)\n",
    "plt.xlabel('SSRT')\n",
    "plt.savefig('plots/SSRT_dist.png', dpi=500)"
   ]
  },
  {
   "cell_type": "code",
   "execution_count": 68,
   "metadata": {},
   "outputs": [
    {
     "data": {
      "text/plain": [
       "(-0.036897935907011854, 0.0024118118987842647)"
      ]
     },
     "execution_count": 68,
     "metadata": {},
     "output_type": "execute_result"
    }
   ],
   "source": [
    "# Index go_rt by the p1 index to get them to line up\n",
    "pearsonr(base_ssrt_v, go_rt.loc[p1.index])"
   ]
  },
  {
   "cell_type": "code",
   "execution_count": 69,
   "metadata": {},
   "outputs": [
    {
     "data": {
      "text/plain": [
       "(275.9980898209973, 73.37035295387585, (0.9737250359714896, 0.0))"
      ]
     },
     "execution_count": 69,
     "metadata": {},
     "output_type": "execute_result"
    }
   ],
   "source": [
    "ssrt_ssd0 = fast_calc(sorted_gos_v, stops_v, exclude_ssd0=True)\n",
    "np.mean(ssrt_ssd0), np.std(ssrt_ssd0), pearsonr(base_ssrt_v, ssrt_ssd0)"
   ]
  },
  {
   "cell_type": "code",
   "execution_count": 70,
   "metadata": {},
   "outputs": [
    {
     "data": {
      "text/plain": [
       "(282.8365732215849, 77.59039441707243, (0.999025774310121, 0.0))"
      ]
     },
     "execution_count": 70,
     "metadata": {},
     "output_type": "execute_result"
    }
   ],
   "source": [
    "ssrt_long = fast_calc(sorted_gos_v, stops_v, exclude_long=True)\n",
    "np.mean(ssrt_long), np.std(ssrt_long), pearsonr(base_ssrt_v, ssrt_long)"
   ]
  },
  {
   "cell_type": "code",
   "execution_count": 71,
   "metadata": {},
   "outputs": [
    {
     "data": {
      "text/plain": [
       "(277.30939349112424, 84.75488252287573, (0.9759216336880274, 0.0))"
      ]
     },
     "execution_count": 71,
     "metadata": {},
     "output_type": "execute_result"
    }
   ],
   "source": [
    "ssrt_last = fast_calc(sorted_gos_v, stops_v, last_only=True)\n",
    "np.mean(ssrt_last), np.std(ssrt_last), pearsonr(base_ssrt_v, ssrt_last)"
   ]
  },
  {
   "cell_type": "code",
   "execution_count": 72,
   "metadata": {},
   "outputs": [
    {
     "data": {
      "text/plain": [
       "(277.3257228982918, 82.6861756987653, (0.9852890530189269, 0.0))"
      ]
     },
     "execution_count": 72,
     "metadata": {},
     "output_type": "execute_result"
    }
   ],
   "source": [
    "ssrt_last_alt = fast_calc(sorted_gos_v, stops_v, last_only_alt=True)\n",
    "np.mean(ssrt_last_alt), np.std(ssrt_last_alt), pearsonr(base_ssrt_v, ssrt_last_alt)"
   ]
  },
  {
   "cell_type": "markdown",
   "metadata": {},
   "source": [
    "- Descriptive stat for SSRT group mean and std.dev:\n",
    "\n",
    "mean = 282.6311390\n",
    "std = 77.962605\n",
    "\n",
    "- Correlation between Go RT and SSRT (Issue 1):\n",
    "\n",
    "r=-0.0368979, p=0.002412\n",
    "\n",
    "- Calculation of SSRT with all 0msec SSD trials removed (Issue 3):\n",
    "\n",
    "mean = 275.99808\n",
    "std = 73.370352\n",
    "r w/ base = .973725\n",
    "\n",
    "- Calculation of SSRT when the long SSD trials are removed (Issue 4):\n",
    "\n",
    "mean = 282.836573\n",
    "std = 77.590394\n",
    "r w/ base = 0.999025\n",
    "\n",
    "- Calculation of SSRT when the first ten Stop trials are removed (Issue 7) (w/o sticky issue):\n",
    "\n",
    "mean = 277.309393\n",
    "std = 84.7548825\n",
    "r w/ base = .975922\n",
    "\n",
    "- W/ both first 10 stop trials and first 60 go trials removed\n",
    "\n",
    "mean = 284.4214497\n",
    "std = 85.06956628\n",
    "r w/ base = .9736803\n"
   ]
  },
  {
   "cell_type": "code",
   "execution_count": 73,
   "metadata": {},
   "outputs": [],
   "source": [
    "# Harder to remove the go trials the way the fast version is setup\n",
    "ssrt_issue = group_v.apply(get_ssrt_issue)"
   ]
  },
  {
   "cell_type": "code",
   "execution_count": 74,
   "metadata": {},
   "outputs": [
    {
     "data": {
      "text/plain": [
       "(284.421449704142, 85.06956628523224, (0.973680375772655, 0.0))"
      ]
     },
     "execution_count": 74,
     "metadata": {},
     "output_type": "execute_result"
    }
   ],
   "source": [
    "np.mean(ssrt_issue), np.std(ssrt_issue), pearsonr(base_ssrt_v, ssrt_issue)"
   ]
  },
  {
   "cell_type": "markdown",
   "metadata": {},
   "source": [
    "## How do go_rts change over time?"
   ]
  },
  {
   "cell_type": "code",
   "execution_count": 75,
   "metadata": {},
   "outputs": [],
   "source": [
    "def get_block_rt(ex_df):\n",
    "    trial_types = np.zeros(len(ex_df))\n",
    "    trial_types[np.where(ex_df['trial_type'] == 'GoTrial')] = 1\n",
    "    go_rts = np.array(ex_df['go_rt_adjusted'])\n",
    "\n",
    "    block_go_rts = []\n",
    "\n",
    "    x = 0\n",
    "    for i, y in enumerate(np.where(trial_types == 0)[0]):\n",
    "        block_go_rts.append(np.mean(go_rts[x:y]))\n",
    "        x = y+1\n",
    "\n",
    "    return np.array(block_go_rts)"
   ]
  },
  {
   "cell_type": "code",
   "execution_count": 76,
   "metadata": {},
   "outputs": [],
   "source": [
    "block_go_rts = group.apply(get_block_rt)"
   ]
  },
  {
   "cell_type": "code",
   "execution_count": 77,
   "metadata": {},
   "outputs": [],
   "source": [
    "stacked_go_rts = []\n",
    "for ind in block_go_rts.index:\n",
    "    stacked_go_rts.append(block_go_rts.loc[ind])\n",
    "stacked_go_rts = np.array(stacked_go_rts)"
   ]
  },
  {
   "cell_type": "code",
   "execution_count": 78,
   "metadata": {},
   "outputs": [
    {
     "data": {
      "text/plain": [
       "(7115, 60)"
      ]
     },
     "execution_count": 78,
     "metadata": {},
     "output_type": "execute_result"
    }
   ],
   "source": [
    "stacked_go_rts.shape"
   ]
  },
  {
   "cell_type": "code",
   "execution_count": 79,
   "metadata": {},
   "outputs": [
    {
     "data": {
      "text/plain": [
       "485.63931014289045"
      ]
     },
     "execution_count": 79,
     "metadata": {},
     "output_type": "execute_result"
    }
   ],
   "source": [
    "np.mean(stacked_go_rts, axis=0)[3]"
   ]
  },
  {
   "cell_type": "code",
   "execution_count": 80,
   "metadata": {},
   "outputs": [
    {
     "data": {
      "image/png": "[encoded data removed]",
      "text/plain": [
       "<Figure size 432x288 with 1 Axes>"
      ]
     },
     "metadata": {
      "needs_background": "light"
     },
     "output_type": "display_data"
    }
   ],
   "source": [
    "plt.plot(np.mean(stacked_go_rts, axis=0)[:30])\n",
    "plt.title('run1')\n",
    "plt.savefig('plots/go_rt_by_trial1.png')"
   ]
  },
  {
   "cell_type": "code",
   "execution_count": 81,
   "metadata": {},
   "outputs": [
    {
     "data": {
      "image/png": "[encoded data removed]",
      "text/plain": [
       "<Figure size 432x288 with 1 Axes>"
      ]
     },
     "metadata": {
      "needs_background": "light"
     },
     "output_type": "display_data"
    }
   ],
   "source": [
    "plt.plot(np.mean(stacked_go_rts, axis=0)[30:])\n",
    "plt.title('run2')\n",
    "plt.savefig('plots/go_rt_by_trial2.png')"
   ]
  },
  {
   "cell_type": "markdown",
   "metadata": {},
   "source": [
    "## Descriptive stats on violators"
   ]
  },
  {
   "cell_type": "code",
   "execution_count": 82,
   "metadata": {},
   "outputs": [],
   "source": [
    "def get_stop_succ_rate(df):\n",
    "    \n",
    "    stop_trials = df[df['trial_type'] == 'StopTrial']\n",
    "    return np.sum(stop_trials['correct_stop']) / len(stop_trials)\n",
    "\n",
    "def get_go_omissions_rate(df):\n",
    "\n",
    "    go_trials = df[df['trial_type'] == 'GoTrial']\n",
    "    return np.sum(go_trials['correct_go_response'] == 'omission') / len(go_trials)\n",
    "\n",
    "def get_avg_ssd(df):\n",
    "    stop_trials = df[df['trial_type'] == 'StopTrial']\n",
    "    return np.mean(stop_trials['SSDDur'])\n",
    "\n",
    "def get_avg_go_rt(df):\n",
    "    \n",
    "    return np.nanmean(df.loc[(df['correct_go_response'] != 'omission') &\n",
    "                     (df['trial_type'] == 'GoTrial')]['go_rt_adjusted'])\n",
    "\n",
    "def get_avg_stop_rt(df):\n",
    "    \n",
    "    return np.mean(df.loc[df['correct_stop'] == 0]['true_stop_rt_adjusted'])\n",
    "\n",
    "def get_comparison(subj_stats, vio):\n",
    "    \n",
    "    non_vio = list(set(subj_stats.index) - set(vio))\n",
    "    \n",
    "    print('all:', np.mean(subj_stats))\n",
    "    print('vio:', np.mean(subj_stats.loc[vio]))\n",
    "    print('non-vio:', np.mean(subj_stats.loc[non_vio]))"
   ]
  },
  {
   "cell_type": "code",
   "execution_count": 83,
   "metadata": {},
   "outputs": [],
   "source": [
    "def calc_for_group(group):\n",
    "    stop_succ_rate = group.apply(get_stop_succ_rate)\n",
    "    stop_fail_acc = group.apply(stop_fail_accuracy)\n",
    "    go_acc = group.apply(go_accuracy)\n",
    "    go_om_rate = group.apply(get_go_omissions_rate)\n",
    "    avg_ssd = group.apply(get_avg_ssd)\n",
    "    go_rt = group.apply(get_avg_go_rt)\n",
    "    stop_rt = group.apply(get_avg_stop_rt)\n",
    "\n",
    "    stats = [stop_succ_rate, stop_fail_acc, go_rt, stop_rt, go_acc, go_om_rate, avg_ssd]\n",
    "    return stats\n",
    "    "
   ]
  },
  {
   "cell_type": "code",
   "execution_count": 84,
   "metadata": {},
   "outputs": [],
   "source": [
    "all_subjs = calc_for_group(df1.groupby('src_subject_id'))\n",
    "ex_behav = calc_for_group(df2.groupby('src_subject_id'))\n",
    "ex_bug = calc_for_group(df.groupby('src_subject_id'))\n",
    "ex_vio = calc_for_group(df_v.groupby('src_subject_id'))"
   ]
  },
  {
   "cell_type": "code",
   "execution_count": 85,
   "metadata": {},
   "outputs": [
    {
     "name": "stdout",
     "output_type": "stream",
     "text": [
      "Stop succ. rate: 0.510 -> 0.513 -> 0.516 -> 0.519\n",
      "\n",
      "Stop fail acc.: 0.786 -> 0.805 -> 0.808 -> 0.813\n",
      "\n",
      "Go RT: 543.186 -> 542.953 -> 543.846 -> 544.422\n",
      "\n",
      "Stop Fail RT: 459.140 -> 458.196 -> 460.484 -> 452.562\n",
      "\n",
      "Go acc.: 0.892 -> 0.909 -> 0.910 -> 0.912\n",
      "\n",
      "Go omission rate: 0.073 -> 0.046 -> 0.046 -> 0.045\n",
      "\n",
      "Avg. SSD: 231.272 -> 227.368 -> 229.138 -> 234.045\n",
      "\n"
     ]
    }
   ],
   "source": [
    "names = ['Stop succ. rate', 'Stop fail acc.', 'Go RT',\n",
    "         'Stop Fail RT', 'Go acc.', 'Go omission rate',\n",
    "         'Avg. SSD']\n",
    "\n",
    "for i, name in enumerate(names):\n",
    "    \n",
    "    print(name+': ', end='')\n",
    "    print(\"{:.3f}\".format(np.mean(all_subjs[i])),\n",
    "          \"{:.3f}\".format(np.mean(ex_behav[i])),\n",
    "          \"{:.3f}\".format(np.mean(ex_bug[i])),\n",
    "          \"{:.3f}\".format(np.mean(ex_vio[i])),\n",
    "           sep=' -> ')\n",
    "    print()"
   ]
  },
  {
   "cell_type": "code",
   "execution_count": 86,
   "metadata": {},
   "outputs": [],
   "source": [
    "to_save = pd.DataFrame()\n",
    "\n",
    "for i, name in enumerate(names):\n",
    "    to_save[name] = ex_bug[i]\n",
    "\n",
    "to_save.to_csv('Summaries.csv')"
   ]
  },
  {
   "cell_type": "code",
   "execution_count": 87,
   "metadata": {},
   "outputs": [
    {
     "data": {
      "text/plain": [
       "355"
      ]
     },
     "execution_count": 87,
     "metadata": {},
     "output_type": "execute_result"
    }
   ],
   "source": [
    "just_vio_df = df.loc[df.src_subject_id.isin(vio)]\n",
    "len(just_vio_df .src_subject_id.unique())"
   ]
  },
  {
   "cell_type": "code",
   "execution_count": 88,
   "metadata": {},
   "outputs": [],
   "source": [
    "just_vio = calc_for_group(just_vio_df.groupby('src_subject_id'))"
   ]
  },
  {
   "cell_type": "code",
   "execution_count": 89,
   "metadata": {},
   "outputs": [
    {
     "name": "stdout",
     "output_type": "stream",
     "text": [
      "Stop succ. rate\n",
      "Just Violators: 0.457 Violators Excluded: 0.519\n",
      "Ttest_indResult(statistic=-20.275393638530627, pvalue=6.652862111798956e-89)\n",
      "\n",
      "Stop fail acc.\n",
      "Just Violators: 0.705 Violators Excluded: 0.813\n",
      "Ttest_indResult(statistic=-13.265686634649304, pvalue=1.0811508363775074e-39)\n",
      "\n",
      "Go RT\n",
      "Just Violators: 532.873 Violators Excluded: 544.422\n",
      "Ttest_indResult(statistic=-2.344258886801527, pvalue=0.01909229854630685)\n",
      "\n",
      "Stop Fail RT\n",
      "Just Violators: 611.344 Violators Excluded: 452.562\n",
      "Ttest_indResult(statistic=32.64605970109036, pvalue=5.886643138341828e-218)\n",
      "\n",
      "Go acc.\n",
      "Just Violators: 0.882 Violators Excluded: 0.912\n",
      "Ttest_indResult(statistic=-5.021171190192575, pvalue=5.26064853926075e-07)\n",
      "\n",
      "Go omission rate\n",
      "Just Violators: 0.064 Violators Excluded: 0.045\n",
      "Ttest_indResult(statistic=7.129943235183358, pvalue=1.1029906744028104e-12)\n",
      "\n",
      "Avg. SSD\n",
      "Just Violators: 135.704 Violators Excluded: 234.045\n",
      "Ttest_indResult(statistic=-17.73378134743226, pvalue=6.882458105890803e-69)\n",
      "\n"
     ]
    }
   ],
   "source": [
    "for i, name in enumerate(names):\n",
    "    \n",
    "    print(name)\n",
    "    ttest_result = ttest_ind(np.array(just_vio[i]), np.array(ex_vio[i]), equal_var=True)\n",
    "    print('Just Violators:', \"{:.3f}\".format(np.mean(just_vio[i])), 'Violators Excluded:', \n",
    "          \"{:.3f}\".format(np.mean(ex_vio[i])))\n",
    "    print(ttest_result)\n",
    "    print()"
   ]
  },
  {
   "cell_type": "markdown",
   "metadata": {},
   "source": [
    "## Calculate SSRT's by a few different subgroups"
   ]
  },
  {
   "cell_type": "code",
   "execution_count": 92,
   "metadata": {},
   "outputs": [],
   "source": [
    "# First subset\n",
    "df_full = pd.read_csv('merged_data/1_.csv', low_memory=False)\n",
    "df_full = clean_df(df_full, switch=True)\n",
    "\n",
    "# Need to drop broken subj\n",
    "to_drop = df_full[df_full['NARGUID'] == 'HJAUY52L'].index\n",
    "df_full = df_full.drop(to_drop, axis=0)\n",
    "\n",
    "# No vio version\n",
    "df_full_no_v = get_no_vio_df(df_full)\n",
    "\n",
    "# First subset w/o bugged\n",
    "SSD_bug = df_full.loc[(df_full['SSD.RT'] < 50) & (df_full['SSD.RT'] > 0) & (df_full['SSDDur'] <=50)]['src_subject_id']\n",
    "to_drop_subjs = SSD_bug.unique()\n",
    "to_drop = df_full[df_full.src_subject_id.isin(to_drop_subjs)].index\n",
    "df_full_no_bug = df_full.drop(to_drop, axis=0)\n",
    "\n",
    "# No vio version\n",
    "df_full_no_bug_no_v = get_no_vio_df(df_full_no_bug)\n",
    "\n",
    "# With behav flag dropped\n",
    "# Same subset but w/ behavioral flag applied\n",
    "df_no_behav = pd.read_csv('merged_data/5_.csv', low_memory=False)\n",
    "df_no_behav = clean_df(df_no_behav, switch=True)\n",
    "\n",
    "# No vio version\n",
    "df_no_behav_no_v = get_no_vio_df(df_no_behav)\n",
    "\n",
    "# No behav, no bug\n",
    "SSD_bug = df_no_behav.loc[(df_no_behav['SSD.RT'] < 50) & (df_no_behav['SSD.RT'] > 0) & (df_no_behav['SSDDur'] <=50)]['src_subject_id']\n",
    "to_drop_subjs = SSD_bug.unique()\n",
    "to_drop = df_no_behav[df_no_behav.src_subject_id.isin(to_drop_subjs)].index\n",
    "df_no_behav_no_bug = df_no_behav.drop(to_drop, axis=0)\n",
    "\n",
    "# No vio version\n",
    "df_no_behav_no_bug_no_v = get_no_vio_df(df_no_behav_no_bug)"
   ]
  },
  {
   "cell_type": "code",
   "execution_count": 93,
   "metadata": {},
   "outputs": [],
   "source": [
    "def get_ssrts(df):\n",
    "    \n",
    "    # Group and prep\n",
    "    group = df.groupby('src_subject_id')\n",
    "    \n",
    "    # Prep ... \n",
    "    sorted_gos, stops = unpack(group.apply(prep))\n",
    "    \n",
    "    # Get base ssrts\n",
    "    ssrts = fast_calc(sorted_gos, stops)\n",
    "    print('Base - Mean:', np.mean(ssrts), 'Std:', np.std(ssrts))\n",
    "    \n",
    "    ssrts = fast_calc(sorted_gos, stops, exclude_ssd0=True)\n",
    "    print('No 0SSD - Mean:', np.mean(ssrts), 'Std:', np.std(ssrts))"
   ]
  },
  {
   "cell_type": "code",
   "execution_count": 94,
   "metadata": {},
   "outputs": [
    {
     "name": "stdout",
     "output_type": "stream",
     "text": [
      "Base - Mean: 312.014360673847 Std: 194.73067125589756\n",
      "No 0SSD - Mean: 295.93475945975257 Std: 169.38569677265846\n"
     ]
    }
   ],
   "source": [
    "get_ssrts(df_full)"
   ]
  },
  {
   "cell_type": "code",
   "execution_count": 95,
   "metadata": {},
   "outputs": [
    {
     "name": "stdout",
     "output_type": "stream",
     "text": [
      "Base - Mean: 300.7182999872563 Std: 179.9301005538753\n",
      "No 0SSD - Mean: 285.2001365849965 Std: 150.4646454800635\n"
     ]
    }
   ],
   "source": [
    "get_ssrts(df_full_no_v)"
   ]
  },
  {
   "cell_type": "code",
   "execution_count": 96,
   "metadata": {},
   "outputs": [
    {
     "name": "stdout",
     "output_type": "stream",
     "text": [
      "Base - Mean: 296.0909846365884 Std: 145.7149727569782\n",
      "No 0SSD - Mean: 286.5077913195545 Std: 139.02539931639225\n"
     ]
    }
   ],
   "source": [
    "get_ssrts(df_full_no_bug)"
   ]
  },
  {
   "cell_type": "code",
   "execution_count": 97,
   "metadata": {},
   "outputs": [
    {
     "name": "stdout",
     "output_type": "stream",
     "text": [
      "Base - Mean: 283.32257923497264 Std: 117.495573722062\n",
      "No 0SSD - Mean: 274.81615565923215 Std: 110.20662519582251\n"
     ]
    }
   ],
   "source": [
    "get_ssrts(df_full_no_bug_no_v)"
   ]
  },
  {
   "cell_type": "code",
   "execution_count": 98,
   "metadata": {},
   "outputs": [
    {
     "name": "stdout",
     "output_type": "stream",
     "text": [
      "Base - Mean: 291.28812696650016 Std: 91.31346631310763\n",
      "No 0SSD - Mean: 283.6362699494149 Std: 87.5584819094059\n"
     ]
    }
   ],
   "source": [
    "get_ssrts(df_no_behav)"
   ]
  },
  {
   "cell_type": "code",
   "execution_count": 99,
   "metadata": {},
   "outputs": [
    {
     "name": "stdout",
     "output_type": "stream",
     "text": [
      "Base - Mean: 285.57134861536963 Std: 85.4993953800454\n",
      "No 0SSD - Mean: 277.43879091830865 Std: 77.02720888029698\n"
     ]
    }
   ],
   "source": [
    "get_ssrts(df_no_behav_no_v)"
   ]
  },
  {
   "cell_type": "code",
   "execution_count": 100,
   "metadata": {},
   "outputs": [
    {
     "name": "stdout",
     "output_type": "stream",
     "text": [
      "Base - Mean: 288.56612789880535 Std: 84.92840284754696\n",
      "No 0SSD - Mean: 282.34497496922427 Std: 84.74915173848085\n"
     ]
    }
   ],
   "source": [
    "get_ssrts(df_no_behav_no_bug)"
   ]
  },
  {
   "cell_type": "code",
   "execution_count": 101,
   "metadata": {},
   "outputs": [
    {
     "name": "stdout",
     "output_type": "stream",
     "text": [
      "Base - Mean: 282.63113905325446 Std: 77.96260508644481\n",
      "No 0SSD - Mean: 275.9980898209973 Std: 73.37035295387585\n"
     ]
    }
   ],
   "source": [
    "get_ssrts(df_no_behav_no_bug_no_v)"
   ]
  }
 ],
 "metadata": {
  "kernelspec": {
   "display_name": "Python 3.7.6 64-bit ('home': conda)",
   "language": "python",
   "name": "python37664bithomeconda2aade2e1d0ce4797afe91f4891a59d68"
  },
  "language_info": {
   "codemirror_mode": {
    "name": "ipython",
    "version": 3
   },
   "file_extension": ".py",
   "mimetype": "text/x-python",
   "name": "python",
   "nbconvert_exporter": "python",
   "pygments_lexer": "ipython3",
   "version": "3.8.5"
  }
 },
 "nbformat": 4,
 "nbformat_minor": 4
}
